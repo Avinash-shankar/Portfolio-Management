{
 "cells": [
  {
   "cell_type": "code",
   "execution_count": 1,
   "metadata": {
    "colab": {
     "base_uri": "https://localhost:8080/"
    },
    "executionInfo": {
     "elapsed": 3021,
     "status": "ok",
     "timestamp": 1628582390822,
     "user": {
      "displayName": "Tanishq Tapiawala",
      "photoUrl": "",
      "userId": "16141969844521546638"
     },
     "user_tz": -330
    },
    "id": "udsDvtFa1Ml9",
    "outputId": "d3813070-2211-4935-c20d-2be29aeb1b45"
   },
   "outputs": [],
   "source": [
    "# !pip install yahoofinancials\n",
    "# import yahoofinancials"
   ]
  },
  {
   "cell_type": "code",
   "execution_count": 2,
   "metadata": {
    "executionInfo": {
     "elapsed": 1976,
     "status": "ok",
     "timestamp": 1628582401978,
     "user": {
      "displayName": "Tanishq Tapiawala",
      "photoUrl": "",
      "userId": "16141969844521546638"
     },
     "user_tz": -330
    },
    "id": "qk1yvi5E7Bce"
   },
   "outputs": [],
   "source": [
    "import pandas as pd\n",
    "import numpy as np\n",
    "import matplotlib.pyplot as plt\n",
    "from matplotlib.pylab import rcParams\n",
    "rcParams['figure.figsize'] = 20, 10\n",
    "from datetime import date\n",
    "from datetime import timedelta\n",
    "from yahoofinancials import YahooFinancials\n",
    "from scipy.stats import norm\n",
    "from sklearn.preprocessing import MinMaxScaler\n",
    "from sklearn.metrics import mean_squared_error\n",
    "from tensorflow.keras.models import Sequential\n",
    "from tensorflow.keras.layers import LSTM, Dropout, Dense, Activation\n",
    "import warnings\n",
    "warnings.filterwarnings('ignore')"
   ]
  },
  {
   "cell_type": "code",
   "execution_count": 3,
   "metadata": {
    "executionInfo": {
     "elapsed": 5,
     "status": "ok",
     "timestamp": 1628582402493,
     "user": {
      "displayName": "Tanishq Tapiawala",
      "photoUrl": "",
      "userId": "16141969844521546638"
     },
     "user_tz": -330
    },
    "id": "HQbRJgaj7Fi_"
   },
   "outputs": [],
   "source": [
    "end = '2021-08-12'\n",
    "start = '2016-07-20'\n",
    "\n",
    "stock_symbol = 'TCS.NS'\n",
    "yf = YahooFinancials(stock_symbol)\n",
    "data = yf.get_historical_price_data(start, end, 'daily')\n",
    "TCS = pd.DataFrame(data['TCS.NS']['prices'])\n",
    "TCS = TCS.drop('date', axis=1).set_index('formatted_date')\n",
    "TCS['Date'] = pd.to_datetime(TCS.index, format=\"%Y-%m-%d\")\n",
    "TCS.set_index('Date', drop=False, inplace=True)\n"
   ]
  },
  {
   "cell_type": "code",
   "execution_count": 4,
   "metadata": {
    "executionInfo": {
     "elapsed": 375,
     "status": "ok",
     "timestamp": 1628582404712,
     "user": {
      "displayName": "Tanishq Tapiawala",
      "photoUrl": "",
      "userId": "16141969844521546638"
     },
     "user_tz": -330
    },
    "id": "aEO_2Vl27T6Q"
   },
   "outputs": [],
   "source": [
    "df = TCS.dropna()"
   ]
  },
  {
   "cell_type": "code",
   "execution_count": 5,
   "metadata": {
    "colab": {
     "base_uri": "https://localhost:8080/",
     "height": 235
    },
    "executionInfo": {
     "elapsed": 30,
     "status": "ok",
     "timestamp": 1628582406290,
     "user": {
      "displayName": "Tanishq Tapiawala",
      "photoUrl": "",
      "userId": "16141969844521546638"
     },
     "user_tz": -330
    },
    "id": "97XouvRc7Uhk",
    "outputId": "38fc4e44-1853-4a32-9500-05414f50a5d4"
   },
   "outputs": [
    {
     "data": {
      "text/html": [
       "<div>\n",
       "<style scoped>\n",
       "    .dataframe tbody tr th:only-of-type {\n",
       "        vertical-align: middle;\n",
       "    }\n",
       "\n",
       "    .dataframe tbody tr th {\n",
       "        vertical-align: top;\n",
       "    }\n",
       "\n",
       "    .dataframe thead th {\n",
       "        text-align: right;\n",
       "    }\n",
       "</style>\n",
       "<table border=\"1\" class=\"dataframe\">\n",
       "  <thead>\n",
       "    <tr style=\"text-align: right;\">\n",
       "      <th></th>\n",
       "      <th>high</th>\n",
       "      <th>low</th>\n",
       "      <th>open</th>\n",
       "      <th>close</th>\n",
       "      <th>volume</th>\n",
       "      <th>adjclose</th>\n",
       "      <th>Date</th>\n",
       "    </tr>\n",
       "    <tr>\n",
       "      <th>Date</th>\n",
       "      <th></th>\n",
       "      <th></th>\n",
       "      <th></th>\n",
       "      <th></th>\n",
       "      <th></th>\n",
       "      <th></th>\n",
       "      <th></th>\n",
       "    </tr>\n",
       "  </thead>\n",
       "  <tbody>\n",
       "    <tr>\n",
       "      <th>2016-07-20</th>\n",
       "      <td>1251.250000</td>\n",
       "      <td>1224.074951</td>\n",
       "      <td>1225.000000</td>\n",
       "      <td>1247.474976</td>\n",
       "      <td>2815252.0</td>\n",
       "      <td>1129.042114</td>\n",
       "      <td>2016-07-20</td>\n",
       "    </tr>\n",
       "    <tr>\n",
       "      <th>2016-07-21</th>\n",
       "      <td>1259.750000</td>\n",
       "      <td>1232.224976</td>\n",
       "      <td>1244.750000</td>\n",
       "      <td>1253.025024</td>\n",
       "      <td>2527148.0</td>\n",
       "      <td>1134.065430</td>\n",
       "      <td>2016-07-21</td>\n",
       "    </tr>\n",
       "    <tr>\n",
       "      <th>2016-07-22</th>\n",
       "      <td>1262.000000</td>\n",
       "      <td>1246.000000</td>\n",
       "      <td>1249.449951</td>\n",
       "      <td>1257.550049</td>\n",
       "      <td>1517216.0</td>\n",
       "      <td>1138.160645</td>\n",
       "      <td>2016-07-22</td>\n",
       "    </tr>\n",
       "    <tr>\n",
       "      <th>2016-07-25</th>\n",
       "      <td>1281.599976</td>\n",
       "      <td>1252.900024</td>\n",
       "      <td>1256.000000</td>\n",
       "      <td>1279.474976</td>\n",
       "      <td>1688796.0</td>\n",
       "      <td>1161.004517</td>\n",
       "      <td>2016-07-25</td>\n",
       "    </tr>\n",
       "    <tr>\n",
       "      <th>2016-07-26</th>\n",
       "      <td>1284.000000</td>\n",
       "      <td>1266.500000</td>\n",
       "      <td>1279.474976</td>\n",
       "      <td>1276.300049</td>\n",
       "      <td>2311290.0</td>\n",
       "      <td>1158.123901</td>\n",
       "      <td>2016-07-26</td>\n",
       "    </tr>\n",
       "  </tbody>\n",
       "</table>\n",
       "</div>"
      ],
      "text/plain": [
       "                   high          low         open        close     volume  \\\n",
       "Date                                                                        \n",
       "2016-07-20  1251.250000  1224.074951  1225.000000  1247.474976  2815252.0   \n",
       "2016-07-21  1259.750000  1232.224976  1244.750000  1253.025024  2527148.0   \n",
       "2016-07-22  1262.000000  1246.000000  1249.449951  1257.550049  1517216.0   \n",
       "2016-07-25  1281.599976  1252.900024  1256.000000  1279.474976  1688796.0   \n",
       "2016-07-26  1284.000000  1266.500000  1279.474976  1276.300049  2311290.0   \n",
       "\n",
       "               adjclose       Date  \n",
       "Date                                \n",
       "2016-07-20  1129.042114 2016-07-20  \n",
       "2016-07-21  1134.065430 2016-07-21  \n",
       "2016-07-22  1138.160645 2016-07-22  \n",
       "2016-07-25  1161.004517 2016-07-25  \n",
       "2016-07-26  1158.123901 2016-07-26  "
      ]
     },
     "execution_count": 5,
     "metadata": {},
     "output_type": "execute_result"
    }
   ],
   "source": [
    "df['Date'] = pd.to_datetime(df.Date, format='%Y-%m-%d')\n",
    "df.index = df['Date']\n",
    "df.head()"
   ]
  },
  {
   "cell_type": "code",
   "execution_count": 6,
   "metadata": {
    "executionInfo": {
     "elapsed": 399,
     "status": "ok",
     "timestamp": 1628582408644,
     "user": {
      "displayName": "Tanishq Tapiawala",
      "photoUrl": "",
      "userId": "16141969844521546638"
     },
     "user_tz": -330
    },
    "id": "qr-UNvGn7a2E"
   },
   "outputs": [],
   "source": [
    "data = df.sort_index(ascending=True, axis=0)"
   ]
  },
  {
   "cell_type": "code",
   "execution_count": 7,
   "metadata": {
    "executionInfo": {
     "elapsed": 10,
     "status": "ok",
     "timestamp": 1628582410516,
     "user": {
      "displayName": "Tanishq Tapiawala",
      "photoUrl": "",
      "userId": "16141969844521546638"
     },
     "user_tz": -330
    },
    "id": "H9t9GAXM7btc"
   },
   "outputs": [],
   "source": [
    "FullData = data[['close']].values"
   ]
  },
  {
   "cell_type": "code",
   "execution_count": 8,
   "metadata": {
    "executionInfo": {
     "elapsed": 8,
     "status": "ok",
     "timestamp": 1628582411868,
     "user": {
      "displayName": "Tanishq Tapiawala",
      "photoUrl": "",
      "userId": "16141969844521546638"
     },
     "user_tz": -330
    },
    "id": "rh62Cr5o1WGo"
   },
   "outputs": [],
   "source": [
    "sc = MinMaxScaler()\n",
    " \n",
    "DataScaler = sc.fit(FullData)\n",
    "X = DataScaler.transform(FullData)"
   ]
  },
  {
   "cell_type": "code",
   "execution_count": 9,
   "metadata": {
    "executionInfo": {
     "elapsed": 368,
     "status": "ok",
     "timestamp": 1628582416960,
     "user": {
      "displayName": "Tanishq Tapiawala",
      "photoUrl": "",
      "userId": "16141969844521546638"
     },
     "user_tz": -330
    },
    "id": "KljgjEIWw04-"
   },
   "outputs": [],
   "source": [
    "X = X.reshape(X.shape[0],) "
   ]
  },
  {
   "cell_type": "code",
   "execution_count": 10,
   "metadata": {
    "executionInfo": {
     "elapsed": 395,
     "status": "ok",
     "timestamp": 1628582419099,
     "user": {
      "displayName": "Tanishq Tapiawala",
      "photoUrl": "",
      "userId": "16141969844521546638"
     },
     "user_tz": -330
    },
    "id": "UO6cPNDf706-"
   },
   "outputs": [],
   "source": [
    "X_samples = list()\n",
    "y_samples = list()\n",
    " \n",
    "NumerOfRows = len(X)\n",
    "TimeSteps = 30   # next few day's Price Prediction is based on last how many past day's prices\n",
    "FutureTimeSteps = 30 # How many days in future you want to predict the prices\n",
    " \n",
    "# Iterate through the values to create combinations\n",
    "for i in range(TimeSteps, NumerOfRows-FutureTimeSteps):\n",
    "    \n",
    "    x_sample = X[i-TimeSteps:i]\n",
    "    y_sample = X[i:i+FutureTimeSteps]\n",
    "    X_samples.append(x_sample)\n",
    "    y_samples.append(y_sample)\n",
    "\n",
    "# Reshape the Input as a 3D (samples, Time Steps, Features)\n",
    "X_data = np.array(X_samples)\n",
    "X_data = X_data.reshape(X_data.shape[0],X_data.shape[1], 1)\n",
    " \n",
    "# We do not reshape y as a 3D data  as it is supposed to be a single column only\n",
    "y_data=np.array(y_samples)"
   ]
  },
  {
   "cell_type": "code",
   "execution_count": 11,
   "metadata": {
    "executionInfo": {
     "elapsed": 463,
     "status": "ok",
     "timestamp": 1628582421855,
     "user": {
      "displayName": "Tanishq Tapiawala",
      "photoUrl": "",
      "userId": "16141969844521546638"
     },
     "user_tz": -330
    },
    "id": "KA4qnzi5xBT4"
   },
   "outputs": [],
   "source": [
    "trl = int(0.95 * len(X_data))"
   ]
  },
  {
   "cell_type": "code",
   "execution_count": 12,
   "metadata": {
    "executionInfo": {
     "elapsed": 10,
     "status": "ok",
     "timestamp": 1628582423960,
     "user": {
      "displayName": "Tanishq Tapiawala",
      "photoUrl": "",
      "userId": "16141969844521546638"
     },
     "user_tz": -330
    },
    "id": "lwu2rmWw72V0"
   },
   "outputs": [],
   "source": [
    "# Splitting the data into train and test\n",
    "X_train = X_data[:trl]\n",
    "X_test = X_data[trl:]\n",
    "\n",
    "y_train = y_data[:trl]\n",
    "y_test = y_data[trl:]"
   ]
  },
  {
   "cell_type": "code",
   "execution_count": 13,
   "metadata": {
    "colab": {
     "base_uri": "https://localhost:8080/"
    },
    "executionInfo": {
     "elapsed": 20,
     "status": "ok",
     "timestamp": 1628582425154,
     "user": {
      "displayName": "Tanishq Tapiawala",
      "photoUrl": "",
      "userId": "16141969844521546638"
     },
     "user_tz": -330
    },
    "id": "obO1zujK5bD7",
    "outputId": "ac5f7083-f491-49eb-d1dd-9bcf696c961c"
   },
   "outputs": [
    {
     "data": {
      "text/plain": [
       "(1188, 30)"
      ]
     },
     "execution_count": 13,
     "metadata": {},
     "output_type": "execute_result"
    }
   ],
   "source": [
    "y_data.shape"
   ]
  },
  {
   "cell_type": "code",
   "execution_count": 14,
   "metadata": {
    "executionInfo": {
     "elapsed": 6,
     "status": "ok",
     "timestamp": 1628582426988,
     "user": {
      "displayName": "Tanishq Tapiawala",
      "photoUrl": "",
      "userId": "16141969844521546638"
     },
     "user_tz": -330
    },
    "id": "Q4zjH22I8Aiq"
   },
   "outputs": [],
   "source": [
    "TimeSteps = X_train.shape[1]\n",
    "TotalFeatures = X_train.shape[2]"
   ]
  },
  {
   "cell_type": "code",
   "execution_count": 15,
   "metadata": {
    "colab": {
     "base_uri": "https://localhost:8080/"
    },
    "executionInfo": {
     "elapsed": 1446,
     "status": "ok",
     "timestamp": 1628582430594,
     "user": {
      "displayName": "Tanishq Tapiawala",
      "photoUrl": "",
      "userId": "16141969844521546638"
     },
     "user_tz": -330
    },
    "id": "6P6BCnCe8VYy",
    "outputId": "46a58ca8-ba77-480f-eb85-0ce73471c30c"
   },
   "outputs": [],
   "source": [
    "model = Sequential()\n",
    " \n",
    "# Adding the First input hidden layer and the LSTM layer\n",
    "# return_sequences = True, means the output of every time step to be shared with hidden next layer\n",
    "model.add(LSTM(units = 10, activation = 'relu', input_shape = (TimeSteps, TotalFeatures), return_sequences=True))\n",
    " \n",
    "\n",
    "# Adding the Second hidden layer and the LSTM layer\n",
    "model.add(LSTM(units = 5, activation = 'relu', input_shape = (TimeSteps, TotalFeatures), return_sequences=True))\n",
    " \n",
    "# Adding the Third hidden layer and the LSTM layer\n",
    "model.add(LSTM(units = 5, activation = 'relu', return_sequences=False ))\n",
    " \n",
    "# Adding the output layer\n",
    "# Notice the number of neurons in the dense layer is now the number of future time steps \n",
    "# Based on the number of future days we want to predict\n",
    "model.add(Dense(units = FutureTimeSteps))"
   ]
  },
  {
   "cell_type": "code",
   "execution_count": 16,
   "metadata": {
    "executionInfo": {
     "elapsed": 470,
     "status": "ok",
     "timestamp": 1628582439604,
     "user": {
      "displayName": "Tanishq Tapiawala",
      "photoUrl": "",
      "userId": "16141969844521546638"
     },
     "user_tz": -330
    },
    "id": "YbiAeMFQx1oR"
   },
   "outputs": [],
   "source": [
    "model.compile(optimizer = 'adam', loss = 'mean_squared_error')"
   ]
  },
  {
   "cell_type": "code",
   "execution_count": 17,
   "metadata": {
    "colab": {
     "base_uri": "https://localhost:8080/"
    },
    "executionInfo": {
     "elapsed": 530,
     "status": "ok",
     "timestamp": 1628582443260,
     "user": {
      "displayName": "Tanishq Tapiawala",
      "photoUrl": "",
      "userId": "16141969844521546638"
     },
     "user_tz": -330
    },
    "id": "GlArLZ8z8ZoI",
    "outputId": "273ecef1-f810-4996-8046-46875467973b"
   },
   "outputs": [
    {
     "name": "stdout",
     "output_type": "stream",
     "text": [
      "Model: \"sequential\"\n",
      "_________________________________________________________________\n",
      "Layer (type)                 Output Shape              Param #   \n",
      "=================================================================\n",
      "lstm (LSTM)                  (None, 30, 10)            480       \n",
      "_________________________________________________________________\n",
      "lstm_1 (LSTM)                (None, 30, 5)             320       \n",
      "_________________________________________________________________\n",
      "lstm_2 (LSTM)                (None, 5)                 220       \n",
      "_________________________________________________________________\n",
      "dense (Dense)                (None, 30)                180       \n",
      "=================================================================\n",
      "Total params: 1,200\n",
      "Trainable params: 1,200\n",
      "Non-trainable params: 0\n",
      "_________________________________________________________________\n"
     ]
    }
   ],
   "source": [
    "model.summary()"
   ]
  },
  {
   "cell_type": "code",
   "execution_count": 18,
   "metadata": {
    "colab": {
     "background_save": true,
     "base_uri": "https://localhost:8080/"
    },
    "id": "h2CCCZ_L8mkL"
   },
   "outputs": [
    {
     "name": "stdout",
     "output_type": "stream",
     "text": [
      "Epoch 1/100\n",
      "9/9 [==============================] - 5s 53ms/step - loss: 0.1844\n",
      "Epoch 2/100\n",
      "9/9 [==============================] - 0s 39ms/step - loss: 0.1781\n",
      "Epoch 3/100\n",
      "9/9 [==============================] - 0s 47ms/step - loss: 0.1720\n",
      "Epoch 4/100\n",
      "9/9 [==============================] - 1s 65ms/step - loss: 0.1661\n",
      "Epoch 5/100\n",
      "9/9 [==============================] - 1s 71ms/step - loss: 0.1604\n",
      "Epoch 6/100\n",
      "9/9 [==============================] - 1s 61ms/step - loss: 0.1550\n",
      "Epoch 7/100\n",
      "9/9 [==============================] - 1s 60ms/step - loss: 0.1497\n",
      "Epoch 8/100\n",
      "9/9 [==============================] - 0s 33ms/step - loss: 0.1446\n",
      "Epoch 9/100\n",
      "9/9 [==============================] - 0s 52ms/step - loss: 0.1398\n",
      "Epoch 10/100\n",
      "9/9 [==============================] - 1s 59ms/step - loss: 0.1352\n",
      "Epoch 11/100\n",
      "9/9 [==============================] - 1s 60ms/step - loss: 0.1308\n",
      "Epoch 12/100\n",
      "9/9 [==============================] - 0s 37ms/step - loss: 0.1265\n",
      "Epoch 13/100\n",
      "9/9 [==============================] - 0s 35ms/step - loss: 0.1225\n",
      "Epoch 14/100\n",
      "9/9 [==============================] - 0s 35ms/step - loss: 0.1187\n",
      "Epoch 15/100\n",
      "9/9 [==============================] - 0s 42ms/step - loss: 0.1150\n",
      "Epoch 16/100\n",
      "9/9 [==============================] - 0s 37ms/step - loss: 0.1115\n",
      "Epoch 17/100\n",
      "9/9 [==============================] - 0s 36ms/step - loss: 0.1082\n",
      "Epoch 18/100\n",
      "9/9 [==============================] - 0s 41ms/step - loss: 0.1050\n",
      "Epoch 19/100\n",
      "9/9 [==============================] - 0s 53ms/step - loss: 0.1020\n",
      "Epoch 20/100\n",
      "9/9 [==============================] - 1s 72ms/step - loss: 0.0991\n",
      "Epoch 21/100\n",
      "9/9 [==============================] - 0s 51ms/step - loss: 0.0964\n",
      "Epoch 22/100\n",
      "9/9 [==============================] - 0s 36ms/step - loss: 0.0939\n",
      "Epoch 23/100\n",
      "9/9 [==============================] - 0s 44ms/step - loss: 0.0915\n",
      "Epoch 24/100\n",
      "9/9 [==============================] - 0s 37ms/step - loss: 0.0892\n",
      "Epoch 25/100\n",
      "9/9 [==============================] - 0s 39ms/step - loss: 0.0870\n",
      "Epoch 26/100\n",
      "9/9 [==============================] - 0s 37ms/step - loss: 0.0849\n",
      "Epoch 27/100\n",
      "9/9 [==============================] - 0s 35ms/step - loss: 0.0830\n",
      "Epoch 28/100\n",
      "9/9 [==============================] - 0s 36ms/step - loss: 0.0812\n",
      "Epoch 29/100\n",
      "9/9 [==============================] - 0s 38ms/step - loss: 0.0795\n",
      "Epoch 30/100\n",
      "9/9 [==============================] - 0s 37ms/step - loss: 0.0779\n",
      "Epoch 31/100\n",
      "9/9 [==============================] - 0s 42ms/step - loss: 0.0763\n",
      "Epoch 32/100\n",
      "9/9 [==============================] - 0s 35ms/step - loss: 0.0749\n",
      "Epoch 33/100\n",
      "9/9 [==============================] - 0s 35ms/step - loss: 0.0736\n",
      "Epoch 34/100\n",
      "9/9 [==============================] - 0s 36ms/step - loss: 0.0723\n",
      "Epoch 35/100\n",
      "9/9 [==============================] - 0s 40ms/step - loss: 0.0712\n",
      "Epoch 36/100\n",
      "9/9 [==============================] - 0s 34ms/step - loss: 0.0700\n",
      "Epoch 37/100\n",
      "9/9 [==============================] - 0s 38ms/step - loss: 0.0691\n",
      "Epoch 38/100\n",
      "9/9 [==============================] - 0s 36ms/step - loss: 0.0681\n",
      "Epoch 39/100\n",
      "9/9 [==============================] - 0s 35ms/step - loss: 0.0672\n",
      "Epoch 40/100\n",
      "9/9 [==============================] - 0s 34ms/step - loss: 0.0664\n",
      "Epoch 41/100\n",
      "9/9 [==============================] - 0s 39ms/step - loss: 0.0656\n",
      "Epoch 42/100\n",
      "9/9 [==============================] - 0s 35ms/step - loss: 0.0649\n",
      "Epoch 43/100\n",
      "9/9 [==============================] - 0s 34ms/step - loss: 0.0643\n",
      "Epoch 44/100\n",
      "9/9 [==============================] - 0s 35ms/step - loss: 0.0637\n",
      "Epoch 45/100\n",
      "9/9 [==============================] - 0s 37ms/step - loss: 0.0631\n",
      "Epoch 46/100\n",
      "9/9 [==============================] - 0s 38ms/step - loss: 0.0626\n",
      "Epoch 47/100\n",
      "9/9 [==============================] - 0s 36ms/step - loss: 0.0621\n",
      "Epoch 48/100\n",
      "9/9 [==============================] - 0s 36ms/step - loss: 0.0617\n",
      "Epoch 49/100\n",
      "9/9 [==============================] - 0s 36ms/step - loss: 0.0613\n",
      "Epoch 50/100\n",
      "9/9 [==============================] - 0s 38ms/step - loss: 0.0609\n",
      "Epoch 51/100\n",
      "9/9 [==============================] - 0s 40ms/step - loss: 0.0606\n",
      "Epoch 52/100\n",
      "9/9 [==============================] - 0s 36ms/step - loss: 0.0602\n",
      "Epoch 53/100\n",
      "9/9 [==============================] - 0s 35ms/step - loss: 0.0599\n",
      "Epoch 54/100\n",
      "9/9 [==============================] - 0s 36ms/step - loss: 0.0597\n",
      "Epoch 55/100\n",
      "9/9 [==============================] - 0s 36ms/step - loss: 0.0594\n",
      "Epoch 56/100\n",
      "9/9 [==============================] - 0s 35ms/step - loss: 0.0592\n",
      "Epoch 57/100\n",
      "9/9 [==============================] - 0s 36ms/step - loss: 0.0590\n",
      "Epoch 58/100\n",
      "9/9 [==============================] - 0s 37ms/step - loss: 0.0588\n",
      "Epoch 59/100\n",
      "9/9 [==============================] - 0s 34ms/step - loss: 0.0587\n",
      "Epoch 60/100\n",
      "9/9 [==============================] - 0s 36ms/step - loss: 0.0585\n",
      "Epoch 61/100\n",
      "9/9 [==============================] - 0s 36ms/step - loss: 0.0584\n",
      "Epoch 62/100\n",
      "9/9 [==============================] - 0s 36ms/step - loss: 0.0583\n",
      "Epoch 63/100\n",
      "9/9 [==============================] - 0s 34ms/step - loss: 0.0582\n",
      "Epoch 64/100\n",
      "9/9 [==============================] - 0s 35ms/step - loss: 0.0580\n",
      "Epoch 65/100\n",
      "9/9 [==============================] - 0s 34ms/step - loss: 0.0579\n",
      "Epoch 66/100\n",
      "9/9 [==============================] - 0s 39ms/step - loss: 0.0579\n",
      "Epoch 67/100\n",
      "9/9 [==============================] - 0s 36ms/step - loss: 0.0578\n",
      "Epoch 68/100\n",
      "9/9 [==============================] - 0s 34ms/step - loss: 0.0577\n",
      "Epoch 69/100\n",
      "9/9 [==============================] - 0s 37ms/step - loss: 0.0577\n",
      "Epoch 70/100\n",
      "9/9 [==============================] - 0s 35ms/step - loss: 0.0576\n",
      "Epoch 71/100\n",
      "9/9 [==============================] - 0s 35ms/step - loss: 0.0576\n",
      "Epoch 72/100\n",
      "9/9 [==============================] - 0s 35ms/step - loss: 0.0575\n",
      "Epoch 73/100\n",
      "9/9 [==============================] - 0s 36ms/step - loss: 0.0575\n",
      "Epoch 74/100\n",
      "9/9 [==============================] - 0s 36ms/step - loss: 0.0575\n",
      "Epoch 75/100\n",
      "9/9 [==============================] - 0s 37ms/step - loss: 0.0574\n",
      "Epoch 76/100\n",
      "9/9 [==============================] - 0s 36ms/step - loss: 0.0574\n",
      "Epoch 77/100\n",
      "9/9 [==============================] - 0s 35ms/step - loss: 0.0574\n",
      "Epoch 78/100\n",
      "9/9 [==============================] - 0s 34ms/step - loss: 0.0573\n",
      "Epoch 79/100\n",
      "9/9 [==============================] - 0s 35ms/step - loss: 0.0573\n",
      "Epoch 80/100\n",
      "9/9 [==============================] - 0s 35ms/step - loss: 0.0573\n",
      "Epoch 81/100\n",
      "9/9 [==============================] - 0s 36ms/step - loss: 0.0573\n",
      "Epoch 82/100\n",
      "9/9 [==============================] - 0s 34ms/step - loss: 0.0573\n",
      "Epoch 83/100\n",
      "9/9 [==============================] - 0s 35ms/step - loss: 0.0573\n",
      "Epoch 84/100\n",
      "9/9 [==============================] - 0s 35ms/step - loss: 0.0573\n",
      "Epoch 85/100\n",
      "9/9 [==============================] - 0s 36ms/step - loss: 0.0573\n",
      "Epoch 86/100\n",
      "9/9 [==============================] - 0s 35ms/step - loss: 0.0573\n",
      "Epoch 87/100\n",
      "9/9 [==============================] - 0s 35ms/step - loss: 0.0572\n",
      "Epoch 88/100\n",
      "9/9 [==============================] - 0s 35ms/step - loss: 0.0572\n",
      "Epoch 89/100\n",
      "9/9 [==============================] - 0s 34ms/step - loss: 0.0572\n",
      "Epoch 90/100\n",
      "9/9 [==============================] - 0s 35ms/step - loss: 0.0572\n",
      "Epoch 91/100\n",
      "9/9 [==============================] - 0s 35ms/step - loss: 0.0572\n",
      "Epoch 92/100\n",
      "9/9 [==============================] - 0s 36ms/step - loss: 0.0572\n",
      "Epoch 93/100\n",
      "9/9 [==============================] - 0s 35ms/step - loss: 0.0572\n",
      "Epoch 94/100\n",
      "9/9 [==============================] - 0s 35ms/step - loss: 0.0572\n",
      "Epoch 95/100\n",
      "9/9 [==============================] - 0s 36ms/step - loss: 0.0572\n",
      "Epoch 96/100\n",
      "9/9 [==============================] - 0s 35ms/step - loss: 0.0572\n",
      "Epoch 97/100\n",
      "9/9 [==============================] - 0s 35ms/step - loss: 0.0572\n",
      "Epoch 98/100\n",
      "9/9 [==============================] - 0s 36ms/step - loss: 0.0572\n",
      "Epoch 99/100\n",
      "9/9 [==============================] - 0s 36ms/step - loss: 0.0572\n",
      "Epoch 100/100\n",
      "9/9 [==============================] - 0s 36ms/step - loss: 0.0572\n"
     ]
    },
    {
     "data": {
      "text/plain": [
       "<tensorflow.python.keras.callbacks.History at 0x15009fc10>"
      ]
     },
     "execution_count": 18,
     "metadata": {},
     "output_type": "execute_result"
    }
   ],
   "source": [
    "model.fit(X_train, y_train, batch_size = 128, epochs = 100)"
   ]
  },
  {
   "cell_type": "code",
   "execution_count": 19,
   "metadata": {
    "colab": {
     "background_save": true
    },
    "id": "BevWyl3ay5jI"
   },
   "outputs": [
    {
     "data": {
      "text/plain": [
       "(60, 30, 1)"
      ]
     },
     "execution_count": 19,
     "metadata": {},
     "output_type": "execute_result"
    }
   ],
   "source": [
    "X_test.shape"
   ]
  },
  {
   "cell_type": "code",
   "execution_count": 20,
   "metadata": {
    "colab": {
     "background_save": true
    },
    "id": "zketO_7_8wYx"
   },
   "outputs": [],
   "source": [
    "predicted_Price = model.predict(X_test)\n",
    "predicted_Price = DataScaler.inverse_transform(predicted_Price)\n",
    " \n",
    "# Getting the original price values for testing data\n",
    "orig = y_test\n",
    "orig = DataScaler.inverse_transform(y_test) "
   ]
  },
  {
   "cell_type": "code",
   "execution_count": 21,
   "metadata": {
    "colab": {
     "background_save": true
    },
    "id": "VTrMr73f80sV"
   },
   "outputs": [
    {
     "data": {
      "text/plain": [
       "1726554.9991177714"
      ]
     },
     "execution_count": 21,
     "metadata": {},
     "output_type": "execute_result"
    }
   ],
   "source": [
    "from sklearn.metrics import mean_squared_error\n",
    "\n",
    "mean_squared_error(orig, predicted_Price)"
   ]
  },
  {
   "cell_type": "markdown",
   "metadata": {
    "id": "MjcCcVXeyQ6t"
   },
   "source": [
    "Next 30 days prediction"
   ]
  },
  {
   "cell_type": "code",
   "execution_count": 22,
   "metadata": {
    "colab": {
     "background_save": true
    },
    "id": "AklODIgIyQgr"
   },
   "outputs": [
    {
     "data": {
      "text/plain": [
       "array([[1861.0259, 1862.6449, 1864.3087, 1866.0162, 1867.7429, 1869.5625,\n",
       "        1871.3844, 1873.1278, 1874.785 , 1876.519 , 1878.2224, 1879.8645,\n",
       "        1881.4598, 1883.0723, 1884.6764, 1886.2512, 1887.891 , 1889.4895,\n",
       "        1891.0698, 1892.5736, 1894.0815, 1895.6183, 1897.193 , 1898.7874,\n",
       "        1900.392 , 1902.0142, 1903.606 , 1905.191 , 1906.7617, 1908.3466]],\n",
       "      dtype=float32)"
      ]
     },
     "execution_count": 22,
     "metadata": {},
     "output_type": "execute_result"
    }
   ],
   "source": [
    "Last60DaysPrices = FullData[-TimeSteps:]\n",
    " \n",
    "# Reshaping the data to (-1,1 )because its a single entry\n",
    "Last60DaysPrices=Last60DaysPrices.reshape(-1, 1)\n",
    " \n",
    "# Scaling the data on the same level on which model was trained\n",
    "X_test=DataScaler.transform(Last60DaysPrices)\n",
    " \n",
    "NumberofSamples=1\n",
    "TimeSteps=X_test.shape[0]\n",
    "NumberofFeatures=X_test.shape[1]\n",
    "# Reshaping the data as 3D input\n",
    "X_test=X_test.reshape(NumberofSamples,TimeSteps,NumberofFeatures)\n",
    " \n",
    "# Generating the predictions for next 5 days\n",
    "Next30DaysPrice = model.predict(X_test)\n",
    "\n",
    "# Generating the prices in original scale\n",
    "Next30DaysPrice = DataScaler.inverse_transform(Next30DaysPrice)\n",
    "Next30DaysPrice\n",
    "\n",
    " \n"
   ]
  },
  {
   "cell_type": "code",
   "execution_count": 23,
   "metadata": {
    "colab": {
     "background_save": true
    },
    "id": "RmIFRM9GynGx"
   },
   "outputs": [
    {
     "data": {
      "text/plain": [
       "array([[1861.0259],\n",
       "       [1862.6449],\n",
       "       [1864.3087],\n",
       "       [1866.0162],\n",
       "       [1867.7429],\n",
       "       [1869.5625],\n",
       "       [1871.3844],\n",
       "       [1873.1278],\n",
       "       [1874.785 ],\n",
       "       [1876.519 ],\n",
       "       [1878.2224],\n",
       "       [1879.8645],\n",
       "       [1881.4598],\n",
       "       [1883.0723],\n",
       "       [1884.6764],\n",
       "       [1886.2512],\n",
       "       [1887.891 ],\n",
       "       [1889.4895],\n",
       "       [1891.0698],\n",
       "       [1892.5736],\n",
       "       [1894.0815],\n",
       "       [1895.6183],\n",
       "       [1897.193 ],\n",
       "       [1898.7874],\n",
       "       [1900.392 ],\n",
       "       [1902.0142],\n",
       "       [1903.606 ],\n",
       "       [1905.191 ],\n",
       "       [1906.7617],\n",
       "       [1908.3466]], dtype=float32)"
      ]
     },
     "execution_count": 23,
     "metadata": {},
     "output_type": "execute_result"
    }
   ],
   "source": [
    "Next30DaysPrice = Next30DaysPrice.reshape((-1, 1))\n",
    "Next30DaysPrice"
   ]
  },
  {
   "cell_type": "code",
   "execution_count": 24,
   "metadata": {
    "colab": {
     "background_save": true
    },
    "id": "MyyFumzIyp0j"
   },
   "outputs": [],
   "source": [
    "def predict_dates(num_prediction):\n",
    "    last_date = end\n",
    "    prediction_dates = pd.date_range(last_date, periods=num_prediction+1).tolist()\n",
    "    return prediction_dates"
   ]
  },
  {
   "cell_type": "code",
   "execution_count": 25,
   "metadata": {
    "colab": {
     "background_save": true
    },
    "id": "TmNhTNagysf9"
   },
   "outputs": [],
   "source": [
    "forecast_dates = predict_dates(FutureTimeSteps-1)"
   ]
  },
  {
   "cell_type": "code",
   "execution_count": 26,
   "metadata": {
    "colab": {
     "background_save": true
    },
    "id": "Y0-Aq7VUyuQw"
   },
   "outputs": [],
   "source": [
    "fd = pd.DataFrame(Next30DaysPrice, index=forecast_dates)"
   ]
  },
  {
   "cell_type": "code",
   "execution_count": 27,
   "metadata": {
    "colab": {
     "background_save": true
    },
    "id": "62U3wAK1yuab"
   },
   "outputs": [
    {
     "data": {
      "text/plain": [
       "[<matplotlib.lines.Line2D at 0x150e57c40>]"
      ]
     },
     "execution_count": 27,
     "metadata": {},
     "output_type": "execute_result"
    },
    {
     "data": {
      "image/png": "[encoded data removed]",
      "text/plain": [
       "<Figure size 1440x720 with 1 Axes>"
      ]
     },
     "metadata": {
      "needs_background": "light"
     },
     "output_type": "display_data"
    }
   ],
   "source": [
    "plt.plot(df['close'])\n",
    "plt.plot(fd)"
   ]
  },
  {
   "cell_type": "markdown",
   "metadata": {
    "id": "EEsKc0j79MaY"
   },
   "source": [
    "Keras Tuning"
   ]
  },
  {
   "cell_type": "code",
   "execution_count": 28,
   "metadata": {
    "colab": {
     "background_save": true
    },
    "id": "cQ8BLKYf9Xsa"
   },
   "outputs": [],
   "source": [
    "# !pip install -U keras-tuner"
   ]
  },
  {
   "cell_type": "code",
   "execution_count": 29,
   "metadata": {
    "colab": {
     "background_save": true
    },
    "id": "gPqpIHm19DAT"
   },
   "outputs": [],
   "source": [
    "from keras_tuner.tuners import randomsearch\n",
    "from keras_tuner.tuners import BayesianOptimization\n",
    "from tensorflow import keras\n",
    "import tensorflow as tf"
   ]
  },
  {
   "cell_type": "code",
   "execution_count": 30,
   "metadata": {
    "colab": {
     "background_save": true
    },
    "id": "UAkY5H409gAp"
   },
   "outputs": [],
   "source": [
    "def build(hp):\n",
    "\n",
    "\n",
    "    activation = hp.Choice('activation', \n",
    "                        [\n",
    "                          'relu',\n",
    "                          'tanh'\n",
    "                         \n",
    "                          ])\n",
    "\n",
    "    lstm_layers = hp.Int(\n",
    "                        'num_lstm_layers', \n",
    "                        min_value=0,\n",
    "                        max_value=60,\n",
    "                        default=3)\n",
    "\n",
    "    # recurrent_dropout = hp.Float(\n",
    "    #                     'recurrent_dropout', \n",
    "    #                     min_value=0.0,\n",
    "    #                     max_value=0.99,\n",
    "    #                     default=0.2)\n",
    "    num_units = hp.Int(\n",
    "                        'num_units', \n",
    "                        min_value=0,\n",
    "                        max_value=300,\n",
    "                        default=32)\n",
    "    \n",
    "    model = Sequential()\n",
    "    model.add(LSTM(units=num_units, activation=activation, #recurrent_dropout = recurrent_dropout,\n",
    "                   return_sequences=True,input_shape=(TimeSteps, TotalFeatures)))\n",
    "\n",
    "    model.add(Dense(1))\n",
    "    model.compile(loss='mse', metrics=['mse'], optimizer=keras.optimizers.Adam(hp.Choice('learning_rate', values=[1e-2, 1e-3, 1e-4, 1e-1,])))\n",
    "\n",
    "\n",
    "#    model.compile(optimizer=keras.optimizers.Adam(hp.Float('learning_rate',min_value=1e-10,max_value=1e-2,sampling='LOG',default=1e-6),loss=tf.losses.MeanSquaredError(),metrics=['mse'])\n",
    "    return model"
   ]
  },
  {
   "cell_type": "code",
   "execution_count": 31,
   "metadata": {
    "colab": {
     "background_save": true
    },
    "id": "RM97HIHS9hN7"
   },
   "outputs": [],
   "source": [
    "import os\n",
    "bayesian_opt_tuner = BayesianOptimization(\n",
    "    build,\n",
    " objective ='mse',\n",
    "    max_trials=3,\n",
    "    executions_per_trial=1,\n",
    "    directory=os.path.normpath('C:/kera'),\n",
    "    project_name='kerastuner_bayesian_poc',\n",
    "    overwrite=True)\n",
    "n_epochs=100\n"
   ]
  },
  {
   "cell_type": "code",
   "execution_count": 32,
   "metadata": {
    "colab": {
     "background_save": true
    },
    "id": "Aai8FKp85MG6"
   },
   "outputs": [
    {
     "name": "stdout",
     "output_type": "stream",
     "text": [
      "(1128, 30, 1) (1128, 30)\n"
     ]
    }
   ],
   "source": [
    "print(X_train.shape,y_train.shape )"
   ]
  },
  {
   "cell_type": "code",
   "execution_count": 33,
   "metadata": {
    "colab": {
     "background_save": true
    },
    "id": "_vTOk0jP9y4l"
   },
   "outputs": [
    {
     "name": "stdout",
     "output_type": "stream",
     "text": [
      "Trial 3 Complete [00h 06m 52s]\n",
      "mse: 0.002270167227834463\n",
      "\n",
      "Best mse So Far: 0.002270167227834463\n",
      "Total elapsed time: 00h 12m 22s\n",
      "INFO:tensorflow:Oracle triggered exit\n"
     ]
    }
   ],
   "source": [
    "bayesian_opt_tuner.search(X_train, y_train,epochs=n_epochs, \n",
    "                          validation_data=(X_test, y_test),\n",
    "                          validation_split=0.2,verbose=1)\n"
   ]
  },
  {
   "cell_type": "code",
   "execution_count": 41,
   "metadata": {
    "colab": {
     "background_save": true
    },
    "id": "Lo3_IGnR97Ui"
   },
   "outputs": [],
   "source": [
    "bestHP = bayesian_opt_tuner.get_best_hyperparameters(num_trials=3)[0].values"
   ]
  },
  {
   "cell_type": "code",
   "execution_count": 42,
   "metadata": {
    "colab": {
     "background_save": true
    },
    "id": "xO7Fe2SJ_FKF"
   },
   "outputs": [
    {
     "data": {
      "text/plain": [
       "{'activation': 'relu',\n",
       " 'num_lstm_layers': 0,\n",
       " 'num_units': 300,\n",
       " 'learning_rate': 0.01}"
      ]
     },
     "execution_count": 42,
     "metadata": {},
     "output_type": "execute_result"
    }
   ],
   "source": [
    "bestHP"
   ]
  },
  {
   "cell_type": "markdown",
   "metadata": {
    "id": "GJYWFmwK_MVt"
   },
   "source": [
    "Using best hyperparameters for the final model building"
   ]
  },
  {
   "cell_type": "code",
   "execution_count": 36,
   "metadata": {
    "id": "NIUBJOtO_LOM"
   },
   "outputs": [],
   "source": [
    "## time stamp =3\n",
    "model=Sequential()\n",
    "model.add(LSTM(38,activation='relu',return_sequences=True,input_shape=(3,1)))\n",
    "model.add(LSTM(38,activation='relu',return_sequences=True))\n",
    "model.add(LSTM(38,activation='relu',return_sequences=True))\n",
    "model.add(LSTM(38,activation='relu',return_sequences=True))\n",
    "model.add(LSTM(38,activation='relu',return_sequences=True))\n",
    "model.add(LSTM(38,activation='relu',return_sequences=True))\n",
    "model.add(LSTM(38,activation='relu',return_sequences=True))\n",
    "model.add(Dense(1))\n",
    "opt = keras.optimizers.Adam(learning_rate=0.001)\n",
    "model.compile(loss='mean_squared_error',optimizer='adam')"
   ]
  },
  {
   "cell_type": "code",
   "execution_count": 37,
   "metadata": {
    "id": "9LNszs5CvF-e"
   },
   "outputs": [],
   "source": [
    "## time stamp =60\n",
    "model=Sequential()\n",
    "model.add(LSTM(46,activation='relu',return_sequences=True,input_shape=(60,1)))\n",
    "model.add(Dense(1))\n",
    "opt = keras.optimizers.Adam(learning_rate=0.01)\n",
    "model.compile(loss='mean_squared_error',optimizer=opt)"
   ]
  },
  {
   "cell_type": "code",
   "execution_count": 38,
   "metadata": {
    "id": "LEQs1koHBXCT"
   },
   "outputs": [],
   "source": [
    "## time stamp =30\n",
    "model=Sequential()\n",
    "model.add(LSTM(46,activation='relu',return_sequences=True,input_shape=(30,1)))\n",
    "model.add(Dense(1))\n",
    "opt = keras.optimizers.Adam(learning_rate=0.01)\n",
    "model.compile(loss='mean_squared_error',optimizer=opt)"
   ]
  },
  {
   "cell_type": "code",
   "execution_count": 40,
   "metadata": {
    "colab": {
     "base_uri": "https://localhost:8080/",
     "height": 441
    },
    "id": "wRHJBWEsACDS",
    "outputId": "adc47325-28e9-4a3d-84e8-7845945455e3"
   },
   "outputs": [
    {
     "name": "stdout",
     "output_type": "stream",
     "text": [
      "Epoch 1/100\n",
      "9/9 [==============================] - ETA: 0s - loss: 0.0502"
     ]
    },
    {
     "ename": "ValueError",
     "evalue": "Data cardinality is ambiguous:\n  x sizes: 1\n  y sizes: 60\nMake sure all arrays contain the same number of samples.",
     "output_type": "error",
     "traceback": [
      "\u001b[0;31m---------------------------------------------------------------------------\u001b[0m",
      "\u001b[0;31mValueError\u001b[0m                                Traceback (most recent call last)",
      "\u001b[0;32m<ipython-input-40-472ce72d18f9>\u001b[0m in \u001b[0;36m<module>\u001b[0;34m\u001b[0m\n\u001b[0;32m----> 1\u001b[0;31m \u001b[0mmodel\u001b[0m\u001b[0;34m.\u001b[0m\u001b[0mfit\u001b[0m\u001b[0;34m(\u001b[0m\u001b[0mX_train\u001b[0m\u001b[0;34m,\u001b[0m\u001b[0my_train\u001b[0m\u001b[0;34m,\u001b[0m\u001b[0mvalidation_data\u001b[0m\u001b[0;34m=\u001b[0m\u001b[0;34m(\u001b[0m\u001b[0mX_test\u001b[0m\u001b[0;34m,\u001b[0m\u001b[0my_test\u001b[0m\u001b[0;34m)\u001b[0m\u001b[0;34m,\u001b[0m\u001b[0mepochs\u001b[0m\u001b[0;34m=\u001b[0m\u001b[0;36m100\u001b[0m\u001b[0;34m,\u001b[0m\u001b[0mbatch_size\u001b[0m\u001b[0;34m=\u001b[0m\u001b[0;36m128\u001b[0m\u001b[0;34m,\u001b[0m\u001b[0mverbose\u001b[0m\u001b[0;34m=\u001b[0m\u001b[0;36m1\u001b[0m\u001b[0;34m)\u001b[0m\u001b[0;34m\u001b[0m\u001b[0;34m\u001b[0m\u001b[0m\n\u001b[0m",
      "\u001b[0;32m/usr/local/lib/python3.9/site-packages/tensorflow/python/keras/engine/training.py\u001b[0m in \u001b[0;36mfit\u001b[0;34m(self, x, y, batch_size, epochs, verbose, callbacks, validation_split, validation_data, shuffle, class_weight, sample_weight, initial_epoch, steps_per_epoch, validation_steps, validation_batch_size, validation_freq, max_queue_size, workers, use_multiprocessing)\u001b[0m\n\u001b[1;32m   1199\u001b[0m           \u001b[0;31m# Create data_handler for evaluation and cache it.\u001b[0m\u001b[0;34m\u001b[0m\u001b[0;34m\u001b[0m\u001b[0;34m\u001b[0m\u001b[0m\n\u001b[1;32m   1200\u001b[0m           \u001b[0;32mif\u001b[0m \u001b[0mgetattr\u001b[0m\u001b[0;34m(\u001b[0m\u001b[0mself\u001b[0m\u001b[0;34m,\u001b[0m \u001b[0;34m'_eval_data_handler'\u001b[0m\u001b[0;34m,\u001b[0m \u001b[0;32mNone\u001b[0m\u001b[0;34m)\u001b[0m \u001b[0;32mis\u001b[0m \u001b[0;32mNone\u001b[0m\u001b[0;34m:\u001b[0m\u001b[0;34m\u001b[0m\u001b[0;34m\u001b[0m\u001b[0m\n\u001b[0;32m-> 1201\u001b[0;31m             self._eval_data_handler = data_adapter.get_data_handler(\n\u001b[0m\u001b[1;32m   1202\u001b[0m                 \u001b[0mx\u001b[0m\u001b[0;34m=\u001b[0m\u001b[0mval_x\u001b[0m\u001b[0;34m,\u001b[0m\u001b[0;34m\u001b[0m\u001b[0;34m\u001b[0m\u001b[0m\n\u001b[1;32m   1203\u001b[0m                 \u001b[0my\u001b[0m\u001b[0;34m=\u001b[0m\u001b[0mval_y\u001b[0m\u001b[0;34m,\u001b[0m\u001b[0;34m\u001b[0m\u001b[0;34m\u001b[0m\u001b[0m\n",
      "\u001b[0;32m/usr/local/lib/python3.9/site-packages/tensorflow/python/keras/engine/data_adapter.py\u001b[0m in \u001b[0;36mget_data_handler\u001b[0;34m(*args, **kwargs)\u001b[0m\n\u001b[1;32m   1362\u001b[0m   \u001b[0;32mif\u001b[0m \u001b[0mgetattr\u001b[0m\u001b[0;34m(\u001b[0m\u001b[0mkwargs\u001b[0m\u001b[0;34m[\u001b[0m\u001b[0;34m\"model\"\u001b[0m\u001b[0;34m]\u001b[0m\u001b[0;34m,\u001b[0m \u001b[0;34m\"_cluster_coordinator\"\u001b[0m\u001b[0;34m,\u001b[0m \u001b[0;32mNone\u001b[0m\u001b[0;34m)\u001b[0m\u001b[0;34m:\u001b[0m\u001b[0;34m\u001b[0m\u001b[0;34m\u001b[0m\u001b[0m\n\u001b[1;32m   1363\u001b[0m     \u001b[0;32mreturn\u001b[0m \u001b[0m_ClusterCoordinatorDataHandler\u001b[0m\u001b[0;34m(\u001b[0m\u001b[0;34m*\u001b[0m\u001b[0margs\u001b[0m\u001b[0;34m,\u001b[0m \u001b[0;34m**\u001b[0m\u001b[0mkwargs\u001b[0m\u001b[0;34m)\u001b[0m\u001b[0;34m\u001b[0m\u001b[0;34m\u001b[0m\u001b[0m\n\u001b[0;32m-> 1364\u001b[0;31m   \u001b[0;32mreturn\u001b[0m \u001b[0mDataHandler\u001b[0m\u001b[0;34m(\u001b[0m\u001b[0;34m*\u001b[0m\u001b[0margs\u001b[0m\u001b[0;34m,\u001b[0m \u001b[0;34m**\u001b[0m\u001b[0mkwargs\u001b[0m\u001b[0;34m)\u001b[0m\u001b[0;34m\u001b[0m\u001b[0;34m\u001b[0m\u001b[0m\n\u001b[0m\u001b[1;32m   1365\u001b[0m \u001b[0;34m\u001b[0m\u001b[0m\n\u001b[1;32m   1366\u001b[0m \u001b[0;34m\u001b[0m\u001b[0m\n",
      "\u001b[0;32m/usr/local/lib/python3.9/site-packages/tensorflow/python/keras/engine/data_adapter.py\u001b[0m in \u001b[0;36m__init__\u001b[0;34m(self, x, y, sample_weight, batch_size, steps_per_epoch, initial_epoch, epochs, shuffle, class_weight, max_queue_size, workers, use_multiprocessing, model, steps_per_execution, distribute)\u001b[0m\n\u001b[1;32m   1152\u001b[0m     \u001b[0madapter_cls\u001b[0m \u001b[0;34m=\u001b[0m \u001b[0mselect_data_adapter\u001b[0m\u001b[0;34m(\u001b[0m\u001b[0mx\u001b[0m\u001b[0;34m,\u001b[0m \u001b[0my\u001b[0m\u001b[0;34m)\u001b[0m\u001b[0;34m\u001b[0m\u001b[0;34m\u001b[0m\u001b[0m\n\u001b[1;32m   1153\u001b[0m     \u001b[0mself\u001b[0m\u001b[0;34m.\u001b[0m\u001b[0m_verify_data_adapter_compatibility\u001b[0m\u001b[0;34m(\u001b[0m\u001b[0madapter_cls\u001b[0m\u001b[0;34m)\u001b[0m\u001b[0;34m\u001b[0m\u001b[0;34m\u001b[0m\u001b[0m\n\u001b[0;32m-> 1154\u001b[0;31m     self._adapter = adapter_cls(\n\u001b[0m\u001b[1;32m   1155\u001b[0m         \u001b[0mx\u001b[0m\u001b[0;34m,\u001b[0m\u001b[0;34m\u001b[0m\u001b[0;34m\u001b[0m\u001b[0m\n\u001b[1;32m   1156\u001b[0m         \u001b[0my\u001b[0m\u001b[0;34m,\u001b[0m\u001b[0;34m\u001b[0m\u001b[0;34m\u001b[0m\u001b[0m\n",
      "\u001b[0;32m/usr/local/lib/python3.9/site-packages/tensorflow/python/keras/engine/data_adapter.py\u001b[0m in \u001b[0;36m__init__\u001b[0;34m(self, x, y, sample_weights, sample_weight_modes, batch_size, epochs, steps, shuffle, **kwargs)\u001b[0m\n\u001b[1;32m    256\u001b[0m \u001b[0;34m\u001b[0m\u001b[0m\n\u001b[1;32m    257\u001b[0m     \u001b[0mnum_samples\u001b[0m \u001b[0;34m=\u001b[0m \u001b[0mset\u001b[0m\u001b[0;34m(\u001b[0m\u001b[0mint\u001b[0m\u001b[0;34m(\u001b[0m\u001b[0mi\u001b[0m\u001b[0;34m.\u001b[0m\u001b[0mshape\u001b[0m\u001b[0;34m[\u001b[0m\u001b[0;36m0\u001b[0m\u001b[0;34m]\u001b[0m\u001b[0;34m)\u001b[0m \u001b[0;32mfor\u001b[0m \u001b[0mi\u001b[0m \u001b[0;32min\u001b[0m \u001b[0mnest\u001b[0m\u001b[0;34m.\u001b[0m\u001b[0mflatten\u001b[0m\u001b[0;34m(\u001b[0m\u001b[0minputs\u001b[0m\u001b[0;34m)\u001b[0m\u001b[0;34m)\u001b[0m\u001b[0;34m.\u001b[0m\u001b[0mpop\u001b[0m\u001b[0;34m(\u001b[0m\u001b[0;34m)\u001b[0m\u001b[0;34m\u001b[0m\u001b[0;34m\u001b[0m\u001b[0m\n\u001b[0;32m--> 258\u001b[0;31m     \u001b[0m_check_data_cardinality\u001b[0m\u001b[0;34m(\u001b[0m\u001b[0minputs\u001b[0m\u001b[0;34m)\u001b[0m\u001b[0;34m\u001b[0m\u001b[0;34m\u001b[0m\u001b[0m\n\u001b[0m\u001b[1;32m    259\u001b[0m \u001b[0;34m\u001b[0m\u001b[0m\n\u001b[1;32m    260\u001b[0m     \u001b[0;31m# If batch_size is not passed but steps is, calculate from the input data.\u001b[0m\u001b[0;34m\u001b[0m\u001b[0;34m\u001b[0m\u001b[0;34m\u001b[0m\u001b[0m\n",
      "\u001b[0;32m/usr/local/lib/python3.9/site-packages/tensorflow/python/keras/engine/data_adapter.py\u001b[0m in \u001b[0;36m_check_data_cardinality\u001b[0;34m(data)\u001b[0m\n\u001b[1;32m   1628\u001b[0m           label, \", \".join(str(i.shape[0]) for i in nest.flatten(single_data)))\n\u001b[1;32m   1629\u001b[0m     \u001b[0mmsg\u001b[0m \u001b[0;34m+=\u001b[0m \u001b[0;34m\"Make sure all arrays contain the same number of samples.\"\u001b[0m\u001b[0;34m\u001b[0m\u001b[0;34m\u001b[0m\u001b[0m\n\u001b[0;32m-> 1630\u001b[0;31m     \u001b[0;32mraise\u001b[0m \u001b[0mValueError\u001b[0m\u001b[0;34m(\u001b[0m\u001b[0mmsg\u001b[0m\u001b[0;34m)\u001b[0m\u001b[0;34m\u001b[0m\u001b[0;34m\u001b[0m\u001b[0m\n\u001b[0m\u001b[1;32m   1631\u001b[0m \u001b[0;34m\u001b[0m\u001b[0m\n\u001b[1;32m   1632\u001b[0m \u001b[0;34m\u001b[0m\u001b[0m\n",
      "\u001b[0;31mValueError\u001b[0m: Data cardinality is ambiguous:\n  x sizes: 1\n  y sizes: 60\nMake sure all arrays contain the same number of samples."
     ]
    }
   ],
   "source": [
    "model.fit(X_train,y_train,validation_data=(X_test,y_test),epochs=100,batch_size=128,verbose=1)"
   ]
  },
  {
   "cell_type": "code",
   "execution_count": null,
   "metadata": {
    "colab": {
     "base_uri": "https://localhost:8080/"
    },
    "id": "nGZftE0SDgsj",
    "outputId": "fe91fc34-1a81-4f38-c540-2e7e5f36364c"
   },
   "outputs": [],
   "source": [
    "### Lets Do the prediction and check performance metrics\n",
    "train_predict=model.predict(X_train)\n",
    "test_predict=model.predict(X_test)"
   ]
  },
  {
   "cell_type": "code",
   "execution_count": null,
   "metadata": {
    "colab": {
     "base_uri": "https://localhost:8080/"
    },
    "id": "wpYV9L4lhpVR",
    "outputId": "b03ac528-235d-444f-f9d2-5e21ddca08c1"
   },
   "outputs": [],
   "source": [
    "X_train.shape"
   ]
  },
  {
   "cell_type": "code",
   "execution_count": null,
   "metadata": {
    "id": "VIAxwSctFZa7"
   },
   "outputs": [],
   "source": [
    "train_predict= train_predict.reshape((1118,60))"
   ]
  },
  {
   "cell_type": "code",
   "execution_count": null,
   "metadata": {
    "id": "Tq-n1VgsDhct"
   },
   "outputs": [],
   "source": [
    "##Transformback to original form\n",
    "train_predict=scaler.inverse_transform(train_predict)\n",
    "#test_predict=scaler.inverse_transform(test_predict)"
   ]
  },
  {
   "cell_type": "code",
   "execution_count": null,
   "metadata": {
    "colab": {
     "base_uri": "https://localhost:8080/"
    },
    "id": "_2OhjD-OiS9l",
    "outputId": "92fa2f8f-b85b-4373-928d-11a6202d1403"
   },
   "outputs": [],
   "source": [
    "train_predict"
   ]
  },
  {
   "cell_type": "markdown",
   "metadata": {
    "id": "5rBXpbxUwN1e"
   },
   "source": [
    "Next 30 days prediction"
   ]
  },
  {
   "cell_type": "code",
   "execution_count": null,
   "metadata": {
    "id": "l1iG0tGTwv42"
   },
   "outputs": [],
   "source": [
    "TimeSteps =60\n"
   ]
  },
  {
   "cell_type": "code",
   "execution_count": null,
   "metadata": {
    "colab": {
     "base_uri": "https://localhost:8080/"
    },
    "id": "luQpeOFUxRrq",
    "outputId": "541d2c39-2d31-4b80-a967-4715a3721f6b"
   },
   "outputs": [],
   "source": [
    "Last60DaysPrices = FullData[-60:]\n",
    "type(Last60DaysPrices)"
   ]
  },
  {
   "cell_type": "code",
   "execution_count": null,
   "metadata": {
    "id": "fLLVbdgNx5nW"
   },
   "outputs": [],
   "source": [
    "from sklearn.preprocessing import MinMaxScaler\n",
    "sc = MinMaxScaler()\n",
    "DataScaler = sc.fit(FullData)\n"
   ]
  },
  {
   "cell_type": "code",
   "execution_count": null,
   "metadata": {
    "id": "YkE66FL-86sL"
   },
   "outputs": [],
   "source": [
    "X_test"
   ]
  },
  {
   "cell_type": "code",
   "execution_count": null,
   "metadata": {
    "colab": {
     "base_uri": "https://localhost:8080/",
     "height": 229
    },
    "id": "eDmKk-bIwNIf",
    "outputId": "dc9df451-54de-4edb-cb96-c00fceb94f60"
   },
   "outputs": [],
   "source": [
    "Last60DaysPrices = FullData[-TimeSteps:]\n",
    " \n",
    "# Reshaping the data to (-1,1 )because its a single entry\n",
    "Last60DaysPrices=Last60DaysPrices.reshape(-1, 1)\n",
    "\n",
    "# Scaling the data on the same level on which model was trained\n",
    "X_test=DataScaler.transform(Last60DaysPrices)\n",
    " \n",
    "NumberofSamples=1\n",
    "TimeSteps=X_test.shape[0]\n",
    "NumberofFeatures=X_test.shape[1]\n",
    "# Reshaping the data as 3D input\n",
    "X_test=X_test.reshape(NumberofSamples,30,NumberofFeatures)\n",
    "\n",
    "# Generating the predictions for next 5 days\n",
    "Next30DaysPrice = model.predict(X_test)\n",
    " \n",
    "Next30DaysPrice = DataScaler.inverse_transform(Next30DaysPrice)\n"
   ]
  },
  {
   "cell_type": "code",
   "execution_count": null,
   "metadata": {
    "colab": {
     "base_uri": "https://localhost:8080/"
    },
    "id": "d9na40xdjJ3N",
    "outputId": "01229dc8-6c09-41c2-f9c3-c05c02b001d6"
   },
   "outputs": [],
   "source": [
    "TimeSteps"
   ]
  },
  {
   "cell_type": "code",
   "execution_count": null,
   "metadata": {
    "colab": {
     "base_uri": "https://localhost:8080/"
    },
    "id": "lQmGwWqk_r6S",
    "outputId": "dd6a994e-c176-4db5-f28e-01c1fcf2a219"
   },
   "outputs": [],
   "source": [
    "Next30DaysPrice.shape"
   ]
  },
  {
   "cell_type": "code",
   "execution_count": null,
   "metadata": {
    "id": "B--1WUjO7yeW"
   },
   "outputs": [],
   "source": [
    "def predict_dates(num_prediction):\n",
    "    last_date = end\n",
    "    prediction_dates = pd.date_range(last_date, periods=num_prediction+1).tolist()\n",
    "    return prediction_dates"
   ]
  },
  {
   "cell_type": "code",
   "execution_count": null,
   "metadata": {
    "id": "YGq0n3s2714H"
   },
   "outputs": [],
   "source": [
    "forecast_dates = predict_dates(60-1)"
   ]
  },
  {
   "cell_type": "code",
   "execution_count": null,
   "metadata": {
    "colab": {
     "base_uri": "https://localhost:8080/",
     "height": 1000
    },
    "id": "pE4LNjhz7-Z4",
    "outputId": "841daf0b-ba79-4437-de06-05aeb408fab4"
   },
   "outputs": [],
   "source": [
    "fd = pd.DataFrame(Next30DaysPrice, index=forecast_dates)\n",
    "fd"
   ]
  },
  {
   "cell_type": "code",
   "execution_count": null,
   "metadata": {
    "colab": {
     "base_uri": "https://localhost:8080/",
     "height": 234
    },
    "id": "LFT5psNvbFxZ",
    "outputId": "cf3e9e75-3c00-4f8a-d770-bfb656b4fee8"
   },
   "outputs": [],
   "source": [
    "end = '2021-09-03'\n",
    "start = '2021-08-04'\n",
    "\n",
    "stock_symbol = 'TCS.NS'\n",
    "yf = YahooFinancials(stock_symbol)\n",
    "data = yf.get_historical_price_data(start, end, 'daily')\n",
    "TCS = pd.DataFrame(data['TCS.NS']['prices'])\n",
    "TCS = TCS.drop('date', axis=1).set_index('formatted_date')\n",
    "TCS['Date'] = pd.to_datetime(TCS.index, format=\"%Y-%m-%d\")\n",
    "TCS.set_index('Date', drop=False, inplace=True)\n",
    "TCS\n"
   ]
  },
  {
   "cell_type": "code",
   "execution_count": null,
   "metadata": {
    "colab": {
     "base_uri": "https://localhost:8080/",
     "height": 609
    },
    "id": "48WpZ6Nz8MQS",
    "outputId": "f20763b3-ab8c-4f55-f5ab-1672f6fd780c"
   },
   "outputs": [],
   "source": [
    "plt.plot(df['close'])\n",
    "plt.plot(fd)"
   ]
  },
  {
   "cell_type": "code",
   "execution_count": null,
   "metadata": {
    "id": "gntIY5MVa2uQ"
   },
   "outputs": [],
   "source": []
  }
 ],
 "metadata": {
  "accelerator": "GPU",
  "colab": {
   "collapsed_sections": [],
   "name": "New (1).ipynb",
   "version": ""
  },
  "kernelspec": {
   "display_name": "Python 3",
   "language": "python",
   "name": "python3"
  },
  "language_info": {
   "codemirror_mode": {
    "name": "ipython",
    "version": 3
   },
   "file_extension": ".py",
   "mimetype": "text/x-python",
   "name": "python",
   "nbconvert_exporter": "python",
   "pygments_lexer": "ipython3",
   "version": "3.9.6"
  }
 },
 "nbformat": 4,
 "nbformat_minor": 1
}
