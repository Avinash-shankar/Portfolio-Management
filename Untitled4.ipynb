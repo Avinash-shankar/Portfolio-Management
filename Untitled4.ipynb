{
 "cells": [
  {
   "cell_type": "code",
   "execution_count": 1,
   "id": "c75060e2",
   "metadata": {},
   "outputs": [],
   "source": [
    "from datetime import datetime\n",
    "\n",
    "import pandas as pd\n",
    "import numpy as np\n",
    "\n",
    "import seaborn as sns\n",
    "sns.set_style('whitegrid')\n",
    "import matplotlib.pyplot as plt\n",
    "\n",
    "import yfinance as yf\n",
    "\n",
    "from scipy.stats import norm\n",
    "from random import sample, shuffle"
   ]
  },
  {
   "cell_type": "code",
   "execution_count": 2,
   "id": "8ca08a42",
   "metadata": {},
   "outputs": [],
   "source": [
    "end = datetime.now()\n",
    "start = datetime(end.year-5,end.month,end.day)"
   ]
  },
  {
   "cell_type": "code",
   "execution_count": 3,
   "id": "725f0a99",
   "metadata": {},
   "outputs": [],
   "source": [
    "stock_list_50 = []\n",
    "stock_symbols_50 = []\n",
    "\n",
    "stock_list_100 = []\n",
    "stock_symbols_100 = []"
   ]
  },
  {
   "cell_type": "code",
   "execution_count": 4,
   "id": "af3a1208",
   "metadata": {},
   "outputs": [],
   "source": [
    "df_50 = pd.read_csv('../data/ind_nifty50list.csv')\n",
    "stock_list_50 = df_50['Symbol'].to_list()\n",
    "for stock in stock_list_50:\n",
    "    stock_symbols_50.append(stock+'.NS')\n",
    "    \n",
    "df_100 = pd.read_csv('../data/ind_niftymidcap100list.csv')\n",
    "stock_list_100 = df_100['Symbol'].to_list()\n",
    "for stock in stock_list_100:\n",
    "    stock_symbols_100.append(stock+'.NS')"
   ]
  },
  {
   "cell_type": "code",
   "execution_count": 5,
   "id": "18a288b3",
   "metadata": {},
   "outputs": [
    {
     "name": "stdout",
     "output_type": "stream",
     "text": [
      "[*********************100%***********************]  1 of 1 completed\n",
      "[*********************100%***********************]  1 of 1 completed\n",
      "[*********************100%***********************]  1 of 1 completed\n",
      "[*********************100%***********************]  1 of 1 completed\n",
      "[*********************100%***********************]  1 of 1 completed\n",
      "[*********************100%***********************]  1 of 1 completed\n",
      "[*********************100%***********************]  1 of 1 completed\n",
      "[*********************100%***********************]  1 of 1 completed\n",
      "[*********************100%***********************]  1 of 1 completed\n",
      "[*********************100%***********************]  1 of 1 completed\n",
      "[*********************100%***********************]  1 of 1 completed\n",
      "[*********************100%***********************]  1 of 1 completed\n",
      "[*********************100%***********************]  1 of 1 completed\n",
      "[*********************100%***********************]  1 of 1 completed\n",
      "[*********************100%***********************]  1 of 1 completed\n",
      "[*********************100%***********************]  1 of 1 completed\n",
      "[*********************100%***********************]  1 of 1 completed\n",
      "[*********************100%***********************]  1 of 1 completed\n",
      "[*********************100%***********************]  1 of 1 completed\n",
      "[*********************100%***********************]  1 of 1 completed\n",
      "[*********************100%***********************]  1 of 1 completed\n",
      "[*********************100%***********************]  1 of 1 completed\n",
      "[*********************100%***********************]  1 of 1 completed\n",
      "[*********************100%***********************]  1 of 1 completed\n",
      "[*********************100%***********************]  1 of 1 completed\n",
      "[*********************100%***********************]  1 of 1 completed\n",
      "[*********************100%***********************]  1 of 1 completed\n",
      "[*********************100%***********************]  1 of 1 completed\n",
      "[*********************100%***********************]  1 of 1 completed\n",
      "[*********************100%***********************]  1 of 1 completed\n",
      "[*********************100%***********************]  1 of 1 completed\n",
      "[*********************100%***********************]  1 of 1 completed\n",
      "[*********************100%***********************]  1 of 1 completed\n",
      "[*********************100%***********************]  1 of 1 completed\n",
      "[*********************100%***********************]  1 of 1 completed\n",
      "[*********************100%***********************]  1 of 1 completed\n",
      "[*********************100%***********************]  1 of 1 completed\n",
      "[*********************100%***********************]  1 of 1 completed\n",
      "[*********************100%***********************]  1 of 1 completed\n",
      "[*********************100%***********************]  1 of 1 completed\n",
      "[*********************100%***********************]  1 of 1 completed\n",
      "[*********************100%***********************]  1 of 1 completed\n",
      "[*********************100%***********************]  1 of 1 completed\n",
      "[*********************100%***********************]  1 of 1 completed\n",
      "[*********************100%***********************]  1 of 1 completed\n",
      "[*********************100%***********************]  1 of 1 completed\n",
      "[*********************100%***********************]  1 of 1 completed\n",
      "[*********************100%***********************]  1 of 1 completed\n",
      "[*********************100%***********************]  1 of 1 completed\n",
      "[*********************100%***********************]  1 of 1 completed\n"
     ]
    }
   ],
   "source": [
    "for stock, stock_symbol in zip(stock_list_50, stock_symbols_50):\n",
    "    globals()[stock] = yf.download(stock_symbol, start, end)\n",
    "    globals()[stock].dropna(inplace=True)"
   ]
  },
  {
   "cell_type": "code",
   "execution_count": 6,
   "id": "c6984edd",
   "metadata": {},
   "outputs": [
    {
     "name": "stdout",
     "output_type": "stream",
     "text": [
      "[*********************100%***********************]  1 of 1 completed\n",
      "[*********************100%***********************]  1 of 1 completed\n",
      "[*********************100%***********************]  1 of 1 completed\n",
      "[*********************100%***********************]  1 of 1 completed\n",
      "[*********************100%***********************]  1 of 1 completed\n",
      "[*********************100%***********************]  1 of 1 completed\n",
      "[*********************100%***********************]  1 of 1 completed\n",
      "[*********************100%***********************]  1 of 1 completed\n",
      "[*********************100%***********************]  1 of 1 completed\n",
      "[*********************100%***********************]  1 of 1 completed\n",
      "[*********************100%***********************]  1 of 1 completed\n",
      "[*********************100%***********************]  1 of 1 completed\n",
      "[*********************100%***********************]  1 of 1 completed\n",
      "[*********************100%***********************]  1 of 1 completed\n",
      "[*********************100%***********************]  1 of 1 completed\n",
      "[*********************100%***********************]  1 of 1 completed\n",
      "[*********************100%***********************]  1 of 1 completed\n",
      "[*********************100%***********************]  1 of 1 completed\n",
      "[*********************100%***********************]  1 of 1 completed\n",
      "[*********************100%***********************]  1 of 1 completed\n",
      "[*********************100%***********************]  1 of 1 completed\n",
      "[*********************100%***********************]  1 of 1 completed\n",
      "[*********************100%***********************]  1 of 1 completed\n",
      "[*********************100%***********************]  1 of 1 completed\n",
      "[*********************100%***********************]  1 of 1 completed\n",
      "[*********************100%***********************]  1 of 1 completed\n",
      "[*********************100%***********************]  1 of 1 completed\n",
      "[*********************100%***********************]  1 of 1 completed\n",
      "[*********************100%***********************]  1 of 1 completed\n",
      "[*********************100%***********************]  1 of 1 completed\n",
      "[*********************100%***********************]  1 of 1 completed\n",
      "[*********************100%***********************]  1 of 1 completed\n",
      "[*********************100%***********************]  1 of 1 completed\n",
      "[*********************100%***********************]  1 of 1 completed\n",
      "[*********************100%***********************]  1 of 1 completed\n",
      "[*********************100%***********************]  1 of 1 completed\n",
      "[*********************100%***********************]  1 of 1 completed\n",
      "[*********************100%***********************]  1 of 1 completed\n",
      "[*********************100%***********************]  1 of 1 completed\n",
      "[*********************100%***********************]  1 of 1 completed\n",
      "[*********************100%***********************]  1 of 1 completed\n",
      "[*********************100%***********************]  1 of 1 completed\n",
      "[*********************100%***********************]  1 of 1 completed\n",
      "[*********************100%***********************]  1 of 1 completed\n",
      "[*********************100%***********************]  1 of 1 completed\n",
      "[*********************100%***********************]  1 of 1 completed\n",
      "[*********************100%***********************]  1 of 1 completed\n",
      "[*********************100%***********************]  1 of 1 completed\n",
      "[*********************100%***********************]  1 of 1 completed\n",
      "[*********************100%***********************]  1 of 1 completed\n",
      "[*********************100%***********************]  1 of 1 completed\n",
      "[*********************100%***********************]  1 of 1 completed\n",
      "[*********************100%***********************]  1 of 1 completed\n",
      "[*********************100%***********************]  1 of 1 completed\n",
      "[*********************100%***********************]  1 of 1 completed\n",
      "[*********************100%***********************]  1 of 1 completed\n",
      "[*********************100%***********************]  1 of 1 completed\n",
      "[*********************100%***********************]  1 of 1 completed\n",
      "[*********************100%***********************]  1 of 1 completed\n",
      "[*********************100%***********************]  1 of 1 completed\n",
      "[*********************100%***********************]  1 of 1 completed\n",
      "[*********************100%***********************]  1 of 1 completed\n",
      "[*********************100%***********************]  1 of 1 completed\n",
      "[*********************100%***********************]  1 of 1 completed\n",
      "[*********************100%***********************]  1 of 1 completed\n",
      "[*********************100%***********************]  1 of 1 completed\n",
      "[*********************100%***********************]  1 of 1 completed\n",
      "[*********************100%***********************]  1 of 1 completed\n",
      "[*********************100%***********************]  1 of 1 completed\n",
      "[*********************100%***********************]  1 of 1 completed\n",
      "[*********************100%***********************]  1 of 1 completed\n",
      "[*********************100%***********************]  1 of 1 completed\n",
      "[*********************100%***********************]  1 of 1 completed\n",
      "[*********************100%***********************]  1 of 1 completed\n",
      "[*********************100%***********************]  1 of 1 completed\n",
      "[*********************100%***********************]  1 of 1 completed\n",
      "[*********************100%***********************]  1 of 1 completed\n",
      "[*********************100%***********************]  1 of 1 completed\n",
      "[*********************100%***********************]  1 of 1 completed\n",
      "[*********************100%***********************]  1 of 1 completed\n",
      "[*********************100%***********************]  1 of 1 completed\n",
      "[*********************100%***********************]  1 of 1 completed\n",
      "[*********************100%***********************]  1 of 1 completed\n",
      "[*********************100%***********************]  1 of 1 completed\n",
      "[*********************100%***********************]  1 of 1 completed\n",
      "[*********************100%***********************]  1 of 1 completed\n",
      "[*********************100%***********************]  1 of 1 completed\n",
      "[*********************100%***********************]  1 of 1 completed\n",
      "[*********************100%***********************]  1 of 1 completed\n",
      "[*********************100%***********************]  1 of 1 completed\n",
      "[*********************100%***********************]  1 of 1 completed\n",
      "[*********************100%***********************]  1 of 1 completed\n",
      "[*********************100%***********************]  1 of 1 completed\n",
      "[*********************100%***********************]  1 of 1 completed\n",
      "[*********************100%***********************]  1 of 1 completed\n",
      "[*********************100%***********************]  1 of 1 completed\n",
      "[*********************100%***********************]  1 of 1 completed\n",
      "[*********************100%***********************]  1 of 1 completed\n",
      "[*********************100%***********************]  1 of 1 completed\n",
      "[*********************100%***********************]  1 of 1 completed\n"
     ]
    }
   ],
   "source": [
    "for stock, stock_symbol in zip(stock_list_100, stock_symbols_100):\n",
    "    globals()[stock] = yf.download(stock_symbol, start, end)\n",
    "    globals()[stock].dropna(inplace=True)"
   ]
  },
  {
   "cell_type": "code",
   "execution_count": 7,
   "id": "5df3aa43",
   "metadata": {},
   "outputs": [
    {
     "name": "stdout",
     "output_type": "stream",
     "text": [
      "[*********************100%***********************]  1 of 1 completed\n"
     ]
    }
   ],
   "source": [
    "nifty_50 = yf.download(\"^NSEI\", start, end)\n",
    "\n",
    "nifty_50_daily = nifty_50['Adj Close'].pct_change().dropna()"
   ]
  },
  {
   "cell_type": "code",
   "execution_count": 8,
   "id": "9d0c0452",
   "metadata": {},
   "outputs": [],
   "source": [
    "closing_df_50 = pd.DataFrame(index=WIPRO.index, columns=stock_list_50)\n",
    "closing_df_100 = pd.DataFrame(index=ATGL.index, columns=stock_list_100)"
   ]
  },
  {
   "cell_type": "code",
   "execution_count": 9,
   "id": "07d623f2",
   "metadata": {},
   "outputs": [],
   "source": [
    "for stock in stock_list_50:\n",
    "    closing_df_50[stock] = globals()[stock]['Adj Close'] \n",
    "    \n",
    "for stock in stock_list_100:\n",
    "    closing_df_100[stock] = globals()[stock]['Adj Close'] "
   ]
  },
  {
   "cell_type": "code",
   "execution_count": 10,
   "id": "9f1641f6",
   "metadata": {},
   "outputs": [],
   "source": [
    "from pypfopt import expected_returns \n",
    "from pypfopt import risk_models \n",
    "from pypfopt import plotting"
   ]
  },
  {
   "cell_type": "code",
   "execution_count": 11,
   "id": "8866b12d",
   "metadata": {},
   "outputs": [],
   "source": [
    "m1 = expected_returns.mean_historical_return(closing_df_50)\n",
    "s1 = risk_models.CovarianceShrinkage(closing_df_50).ledoit_wolf(shrinkage_target='single_factor')"
   ]
  },
  {
   "cell_type": "code",
   "execution_count": 12,
   "id": "3c622344",
   "metadata": {},
   "outputs": [
    {
     "name": "stdout",
     "output_type": "stream",
     "text": [
      "Expected annual return: 34.8%\n",
      "Annual volatility: 18.8%\n",
      "Sharpe Ratio: 1.74\n"
     ]
    },
    {
     "name": "stderr",
     "output_type": "stream",
     "text": [
      "/usr/local/lib/python3.9/site-packages/pypfopt/efficient_frontier/efficient_frontier.py:404: UserWarning: The risk_free_rate provided to portfolio_performance is different to the one used by max_sharpe. Using the previous value.\n",
      "  warnings.warn(\n"
     ]
    },
    {
     "data": {
      "text/plain": [
       "(0.34750960169523776, 0.18793863248431095, 1.7426411875300738)"
      ]
     },
     "execution_count": 12,
     "metadata": {},
     "output_type": "execute_result"
    }
   ],
   "source": [
    "from pypfopt.efficient_frontier import EfficientFrontier\n",
    "\n",
    "ef = EfficientFrontier(m1, s1)\n",
    "weights = ef.max_sharpe()\n",
    "cleaned_weights = ef.clean_weights()\n",
    "ef.portfolio_performance(verbose=True, risk_free_rate=0.0602)"
   ]
  },
  {
   "cell_type": "code",
   "execution_count": 13,
   "id": "be3184c8",
   "metadata": {},
   "outputs": [
    {
     "data": {
      "text/plain": [
       "OrderedDict([('ADANIPORTS', 0.0),\n",
       "             ('ASIANPAINT', 0.00096),\n",
       "             ('AXISBANK', 0.0),\n",
       "             ('BAJAJ-AUTO', 0.0),\n",
       "             ('BAJFINANCE', 0.11936),\n",
       "             ('BAJAJFINSV', 0.0),\n",
       "             ('BPCL', 0.0),\n",
       "             ('BHARTIARTL', 0.0),\n",
       "             ('BRITANNIA', 0.0),\n",
       "             ('CIPLA', 0.0),\n",
       "             ('COALINDIA', 0.0),\n",
       "             ('DIVISLAB', 0.10186),\n",
       "             ('DRREDDY', 0.0),\n",
       "             ('EICHERMOT', 0.0),\n",
       "             ('GRASIM', 0.0),\n",
       "             ('HCLTECH', 0.00901),\n",
       "             ('HDFCBANK', 0.0),\n",
       "             ('HDFCLIFE', 0.0),\n",
       "             ('HEROMOTOCO', 0.0),\n",
       "             ('HINDALCO', 0.0),\n",
       "             ('HINDUNILVR', 0.09348),\n",
       "             ('HDFC', 0.0),\n",
       "             ('ICICIBANK', 0.0),\n",
       "             ('ITC', 0.0),\n",
       "             ('IOC', 0.0),\n",
       "             ('INDUSINDBK', 0.0),\n",
       "             ('INFY', 0.05747),\n",
       "             ('JSWSTEEL', 0.01592),\n",
       "             ('KOTAKBANK', 0.0),\n",
       "             ('LT', 0.0),\n",
       "             ('M&M', 0.0),\n",
       "             ('MARUTI', 0.0),\n",
       "             ('NTPC', 0.0),\n",
       "             ('NESTLEIND', 0.097),\n",
       "             ('ONGC', 0.0),\n",
       "             ('POWERGRID', 0.0),\n",
       "             ('RELIANCE', 0.12724),\n",
       "             ('SBILIFE', 0.0),\n",
       "             ('SHREECEM', 0.0),\n",
       "             ('SBIN', 0.0),\n",
       "             ('SUNPHARMA', 0.0),\n",
       "             ('TCS', 0.11714),\n",
       "             ('TATACONSUM', 0.15999),\n",
       "             ('TATAMOTORS', 0.0),\n",
       "             ('TATASTEEL', 0.0),\n",
       "             ('TECHM', 0.0),\n",
       "             ('TITAN', 0.07473),\n",
       "             ('UPL', 0.0),\n",
       "             ('ULTRACEMCO', 0.0),\n",
       "             ('WIPRO', 0.02583)])"
      ]
     },
     "execution_count": 13,
     "metadata": {},
     "output_type": "execute_result"
    }
   ],
   "source": [
    "cleaned_weights"
   ]
  },
  {
   "cell_type": "code",
   "execution_count": 14,
   "id": "7aa270ee",
   "metadata": {},
   "outputs": [
    {
     "name": "stdout",
     "output_type": "stream",
     "text": [
      "Discrete Allocation:  {'ASIANPAINT': 1, 'BAJFINANCE': 20, 'DIVISLAB': 23, 'HCLTECH': 9, 'HINDUNILVR': 38, 'INFY': 36, 'JSWSTEEL': 23, 'NESTLEIND': 5, 'RELIANCE': 61, 'TCS': 35, 'TATACONSUM': 211, 'TITAN': 43, 'WIPRO': 47}\n",
      "Remaining:  290.45489501953125\n"
     ]
    }
   ],
   "source": [
    "from pypfopt import DiscreteAllocation, get_latest_prices\n",
    "\n",
    "portfolio_val = 1000000\n",
    "latest_prices = get_latest_prices(closing_df_50)\n",
    "weights = cleaned_weights\n",
    "\n",
    "da = DiscreteAllocation(weights, latest_prices, portfolio_val)\n",
    "\n",
    "al, left = da.lp_portfolio()\n",
    "\n",
    "print('Discrete Allocation: ', al)\n",
    "print('Remaining: ', left)"
   ]
  },
  {
   "cell_type": "code",
   "execution_count": 15,
   "id": "d2f74c48",
   "metadata": {},
   "outputs": [],
   "source": [
    "m2 = expected_returns.mean_historical_return(closing_df_100)\n",
    "s2 = risk_models.sample_cov(closing_df_100)"
   ]
  },
  {
   "cell_type": "code",
   "execution_count": 16,
   "id": "7aaac955",
   "metadata": {},
   "outputs": [
    {
     "name": "stdout",
     "output_type": "stream",
     "text": [
      "Expected annual return: 133.9%\n",
      "Annual volatility: 26.3%\n",
      "Sharpe Ratio: 5.02\n"
     ]
    },
    {
     "name": "stderr",
     "output_type": "stream",
     "text": [
      "/usr/local/lib/python3.9/site-packages/pypfopt/efficient_frontier/efficient_frontier.py:404: UserWarning: The risk_free_rate provided to portfolio_performance is different to the one used by max_sharpe. Using the previous value.\n",
      "  warnings.warn(\n"
     ]
    },
    {
     "data": {
      "text/plain": [
       "(1.3387891933676284, 0.26272126051751526, 5.019727717390829)"
      ]
     },
     "execution_count": 16,
     "metadata": {},
     "output_type": "execute_result"
    }
   ],
   "source": [
    "from pypfopt.efficient_frontier import EfficientFrontier\n",
    "\n",
    "ef = EfficientFrontier(m2, s2)\n",
    "weights = ef.max_sharpe()\n",
    "cleaned_weights = ef.clean_weights()\n",
    "ef.portfolio_performance(verbose=True, risk_free_rate=0.0602)"
   ]
  },
  {
   "cell_type": "code",
   "execution_count": 17,
   "id": "51f1698c",
   "metadata": {},
   "outputs": [
    {
     "data": {
      "text/plain": [
       "OrderedDict([('AUBANK', 0.0),\n",
       "             ('AARTIIND', 0.0),\n",
       "             ('ATGL', 0.17257),\n",
       "             ('ABCAPITAL', 0.0),\n",
       "             ('ABFRL', 0.0),\n",
       "             ('AJANTPHARM', 0.0),\n",
       "             ('APLLTD', 0.0),\n",
       "             ('AMARAJABAT', 0.0),\n",
       "             ('APOLLOTYRE', 0.0),\n",
       "             ('ASHOKLEY', 0.0),\n",
       "             ('BALKRISIND', 0.0),\n",
       "             ('BANKBARODA', 0.0),\n",
       "             ('BANKINDIA', 0.0),\n",
       "             ('BATAINDIA', 0.0),\n",
       "             ('BEL', 0.0),\n",
       "             ('BHARATFORG', 0.0),\n",
       "             ('BHEL', 0.0),\n",
       "             ('BBTC', 0.0),\n",
       "             ('CESC', 0.0),\n",
       "             ('CANBK', 0.0),\n",
       "             ('CASTROLIND', 0.0),\n",
       "             ('CHOLAFIN', 0.0),\n",
       "             ('CUB', 0.0),\n",
       "             ('COFORGE', 0.0),\n",
       "             ('CONCOR', 0.0),\n",
       "             ('COROMANDEL', 0.0),\n",
       "             ('CROMPTON', 0.0),\n",
       "             ('CUMMINSIND', 0.0),\n",
       "             ('DALBHARAT', 0.0),\n",
       "             ('DEEPAKNTR', 0.0),\n",
       "             ('DHANI', 0.0),\n",
       "             ('DIXON', 0.24962),\n",
       "             ('LALPATHLAB', 0.07252),\n",
       "             ('EMAMILTD', 0.0),\n",
       "             ('ENDURANCE', 0.0),\n",
       "             ('ESCORTS', 0.0),\n",
       "             ('EXIDEIND', 0.0),\n",
       "             ('FEDERALBNK', 0.0),\n",
       "             ('FORTIS', 0.0),\n",
       "             ('GMRINFRA', 0.0),\n",
       "             ('GLENMARK', 0.0),\n",
       "             ('GODREJAGRO', 0.0),\n",
       "             ('GODREJIND', 0.0),\n",
       "             ('GODREJPROP', 0.0),\n",
       "             ('GUJGASLTD', 0.08804),\n",
       "             ('GSPL', 0.0),\n",
       "             ('HAL', 0.0),\n",
       "             ('HINDZINC', 0.0),\n",
       "             ('ISEC', 0.0),\n",
       "             ('IDFCFIRSTB', 0.0),\n",
       "             ('IBULHSGFIN', 0.0),\n",
       "             ('INDIAMART', 0.07744),\n",
       "             ('INDHOTEL', 0.0),\n",
       "             ('IRCTC', 0.03941),\n",
       "             ('IPCALAB', 0.0),\n",
       "             ('JSWENERGY', 0.0),\n",
       "             ('JINDALSTEL', 0.0),\n",
       "             ('L&TFH', 0.0),\n",
       "             ('LTTS', 0.0),\n",
       "             ('LICHSGFIN', 0.0),\n",
       "             ('LAURUSLABS', 0.23284),\n",
       "             ('MGL', 0.0),\n",
       "             ('M&MFIN', 0.0),\n",
       "             ('MANAPPURAM', 0.0),\n",
       "             ('MFSL', 0.0),\n",
       "             ('MINDTREE', 0.0),\n",
       "             ('MPHASIS', 0.0),\n",
       "             ('NATCOPHARM', 0.0),\n",
       "             ('NAVINFLUOR', 0.06755),\n",
       "             ('NAM-INDIA', 0.0),\n",
       "             ('OBEROIRLTY', 0.0),\n",
       "             ('OIL', 0.0),\n",
       "             ('PIIND', 0.0),\n",
       "             ('PAGEIND', 0.0),\n",
       "             ('PFIZER', 0.0),\n",
       "             ('POLYCAB', 0.0),\n",
       "             ('PFC', 0.0),\n",
       "             ('PRESTIGE', 0.0),\n",
       "             ('RBLBANK', 0.0),\n",
       "             ('RECLTD', 0.0),\n",
       "             ('SRF', 0.0),\n",
       "             ('SANOFI', 0.0),\n",
       "             ('SRTRANSFIN', 0.0),\n",
       "             ('SAIL', 0.0),\n",
       "             ('SUNTV', 0.0),\n",
       "             ('SYNGENE', 0.0),\n",
       "             ('TVSMOTOR', 0.0),\n",
       "             ('TATACHEM', 0.0),\n",
       "             ('TATAELXSI', 0.0),\n",
       "             ('TATAPOWER', 0.0),\n",
       "             ('RAMCOCEM', 0.0),\n",
       "             ('TORNTPOWER', 0.0),\n",
       "             ('TRENT', 0.0),\n",
       "             ('UNIONBANK', 0.0),\n",
       "             ('VGUARD', 0.0),\n",
       "             ('VBL', 0.0),\n",
       "             ('IDEA', 0.0),\n",
       "             ('VOLTAS', 0.0),\n",
       "             ('WHIRLPOOL', 0.0),\n",
       "             ('ZEEL', 0.0)])"
      ]
     },
     "execution_count": 17,
     "metadata": {},
     "output_type": "execute_result"
    }
   ],
   "source": [
    "cleaned_weights"
   ]
  },
  {
   "cell_type": "code",
   "execution_count": 18,
   "id": "940d3022",
   "metadata": {},
   "outputs": [
    {
     "name": "stdout",
     "output_type": "stream",
     "text": [
      "Discrete Allocation:  {'ATGL': 1, 'GUJGASLTD': 1, 'LAURUSLABS': 2}\n",
      "Remaining:  447.300048828125\n"
     ]
    }
   ],
   "source": [
    "from pypfopt import DiscreteAllocation, get_latest_prices\n",
    "\n",
    "portfolio_val = 3500\n",
    "latest_prices = get_latest_prices(closing_df_100)\n",
    "weights = cleaned_weights\n",
    "\n",
    "da = DiscreteAllocation(weights, latest_prices, portfolio_val)\n",
    "\n",
    "al, left = da.lp_portfolio()\n",
    "\n",
    "print('Discrete Allocation: ', al)\n",
    "print('Remaining: ', left)"
   ]
  },
  {
   "cell_type": "markdown",
   "id": "72912521",
   "metadata": {},
   "source": [
    "# MIX"
   ]
  },
  {
   "cell_type": "code",
   "execution_count": 19,
   "id": "980f3927",
   "metadata": {},
   "outputs": [],
   "source": [
    "sl = stock_list_50 + stock_list_100\n",
    "\n",
    "df = pd.DataFrame(index=WIPRO.index, columns=sl)\n",
    "for stock in sl:\n",
    "    df[stock] = globals()[stock]['Adj Close']     "
   ]
  },
  {
   "cell_type": "code",
   "execution_count": 20,
   "id": "daea70e7",
   "metadata": {},
   "outputs": [
    {
     "name": "stderr",
     "output_type": "stream",
     "text": [
      "/usr/local/lib/python3.9/site-packages/pypfopt/risk_models.py:68: UserWarning: The covariance matrix is non positive semidefinite. Amending eigenvalues.\n",
      "  warnings.warn(\n"
     ]
    }
   ],
   "source": [
    "m = expected_returns.mean_historical_return(df)\n",
    "s = risk_models.sample_cov(df)"
   ]
  },
  {
   "cell_type": "code",
   "execution_count": 21,
   "id": "4668c78a",
   "metadata": {},
   "outputs": [
    {
     "name": "stdout",
     "output_type": "stream",
     "text": [
      "Expected annual return: 138.9%\n",
      "Annual volatility: 32.5%\n",
      "Sharpe Ratio: 4.22\n"
     ]
    },
    {
     "name": "stderr",
     "output_type": "stream",
     "text": [
      "/usr/local/lib/python3.9/site-packages/pypfopt/efficient_frontier/efficient_frontier.py:404: UserWarning: The risk_free_rate provided to portfolio_performance is different to the one used by max_sharpe. Using the previous value.\n",
      "  warnings.warn(\n"
     ]
    },
    {
     "data": {
      "text/plain": [
       "(1.3888376663297588, 0.3247322472348005, 4.215280982981677)"
      ]
     },
     "execution_count": 21,
     "metadata": {},
     "output_type": "execute_result"
    }
   ],
   "source": [
    "from pypfopt.efficient_frontier import EfficientFrontier\n",
    "\n",
    "ef = EfficientFrontier(m, s)\n",
    "weights = ef.max_sharpe()\n",
    "cleaned_weights = ef.clean_weights()\n",
    "ef.portfolio_performance(verbose=True, risk_free_rate=0.0602)"
   ]
  },
  {
   "cell_type": "code",
   "execution_count": 22,
   "id": "19866198",
   "metadata": {},
   "outputs": [
    {
     "name": "stdout",
     "output_type": "stream",
     "text": [
      "Discrete Allocation:  {'ATGL': 285, 'BANKBARODA': 1, 'COFORGE': 1, 'DEEPAKNTR': 12, 'DIXON': 31, 'LALPATHLAB': 12, 'INDIAMART': 33, 'IRCTC': 66, 'IPCALAB': 11, 'MPHASIS': 5, 'NAVINFLUOR': 4, 'IDEA': 6}\n",
      "Remaining:  8.041748046875\n"
     ]
    }
   ],
   "source": [
    "from pypfopt import DiscreteAllocation, get_latest_prices\n",
    "\n",
    "portfolio_val = 1000000\n",
    "latest_prices = get_latest_prices(df)\n",
    "weights = cleaned_weights\n",
    "\n",
    "da = DiscreteAllocation(weights, latest_prices, portfolio_val)\n",
    "\n",
    "al, left = da.lp_portfolio()\n",
    "\n",
    "print('Discrete Allocation: ', al)\n",
    "print('Remaining: ', left)"
   ]
  },
  {
   "cell_type": "markdown",
   "id": "c4b71f70",
   "metadata": {},
   "source": [
    "# TASK"
   ]
  },
  {
   "cell_type": "code",
   "execution_count": 23,
   "id": "8809b636",
   "metadata": {},
   "outputs": [],
   "source": [
    "dict_50 = dict.fromkeys(stock_list_50, \"nifty50\")\n",
    "dict_100 = dict.fromkeys(stock_list_100, \"nifty100\")"
   ]
  },
  {
   "cell_type": "code",
   "execution_count": 24,
   "id": "a3cb2c32",
   "metadata": {},
   "outputs": [],
   "source": [
    "sl = stock_list_50 + stock_list_100\n",
    "\n",
    "sector_mapper = dict(dict_50)\n",
    "sector_mapper.update(dict_100)\n",
    "\n",
    "sector_lower_1 = {\"nifty50\": 0.5, \"nifty100\": 0.5}\n",
    "sector_upper_1 = {\"nifty50\": 0.51, \"nifty100\": 0.51}\n",
    "\n",
    "sector_lower_2 = {\"nifty50\": 0.3, \"nifty100\": 0.7}\n",
    "sector_upper_2 = {\"nifty50\": 0.31, \"nifty100\": 0.71}"
   ]
  },
  {
   "cell_type": "code",
   "execution_count": 25,
   "id": "3a13dbae",
   "metadata": {},
   "outputs": [],
   "source": [
    "df = pd.DataFrame(index=WIPRO.index, columns=sl)\n",
    "for stock in sl:\n",
    "    df[stock] = globals()[stock]['Adj Close']"
   ]
  },
  {
   "cell_type": "code",
   "execution_count": 26,
   "id": "f4de1e2f",
   "metadata": {},
   "outputs": [],
   "source": [
    "mu = expected_returns.mean_historical_return(df)\n",
    "S = risk_models.CovarianceShrinkage(df).ledoit_wolf(shrinkage_target='single_factor')"
   ]
  },
  {
   "cell_type": "code",
   "execution_count": 27,
   "id": "b091b8c0",
   "metadata": {},
   "outputs": [
    {
     "name": "stdout",
     "output_type": "stream",
     "text": [
      "Expected annual return: 93.2%\n",
      "Annual volatility: 16.8%\n",
      "Sharpe Ratio: 5.44\n",
      "\n",
      "\n",
      "Expected annual return: 112.7%\n",
      "Annual volatility: 18.4%\n",
      "Sharpe Ratio: 6.03\n"
     ]
    },
    {
     "name": "stderr",
     "output_type": "stream",
     "text": [
      "/usr/local/lib/python3.9/site-packages/pypfopt/efficient_frontier/efficient_frontier.py:404: UserWarning: The risk_free_rate provided to portfolio_performance is different to the one used by max_sharpe. Using the previous value.\n",
      "  warnings.warn(\n"
     ]
    },
    {
     "data": {
      "text/plain": [
       "(1.126653896592419, 0.18359792592982116, 6.027594761693706)"
      ]
     },
     "execution_count": 27,
     "metadata": {},
     "output_type": "execute_result"
    }
   ],
   "source": [
    "from pypfopt.efficient_frontier import EfficientFrontier\n",
    "from pypfopt.base_optimizer import BaseConvexOptimizer \n",
    "\n",
    "ef_1 = EfficientFrontier(expected_returns=mu, cov_matrix=S)\n",
    "ef_1.add_sector_constraints(sector_mapper,sector_lower_1, sector_upper_1)\n",
    "weights_1 = ef_1.max_sharpe()\n",
    "cleaned_weights_1 = ef_1.clean_weights()\n",
    "ef_1.portfolio_performance(verbose=True, risk_free_rate=0.0602)\n",
    "\n",
    "print('\\n')\n",
    "\n",
    "ef_2 = EfficientFrontier(expected_returns=mu, cov_matrix=S)\n",
    "ef_2.add_sector_constraints(sector_mapper,sector_lower_2, sector_upper_2)\n",
    "weights_2 = ef_2.max_sharpe()\n",
    "cleaned_weights_2 = ef_2.clean_weights()\n",
    "ef_2.portfolio_performance(verbose=True, risk_free_rate=0.0602)"
   ]
  },
  {
   "cell_type": "code",
   "execution_count": 28,
   "id": "d2617814",
   "metadata": {},
   "outputs": [
    {
     "name": "stdout",
     "output_type": "stream",
     "text": [
      "Discrete Allocation:  {'ASIANPAINT': 1, 'CIPLA': 2, 'DIVISLAB': 1, 'HINDUNILVR': 4, 'INFY': 3, 'NESTLEIND': 1, 'POWERGRID': 5, 'RELIANCE': 1, 'TCS': 2, 'TATACONSUM': 2, 'WIPRO': 4, 'ATGL': 17, 'INDIAMART': 2, 'IRCTC': 4, 'IDEA': 11}\n",
      "Remaining:  1.400360107421875\n",
      "\n",
      "\n",
      "Discrete Allocation:  {'HINDUNILVR': 3, 'INFY': 2, 'NESTLEIND': 1, 'TCS': 2, 'ATGL': 19, 'BANKBARODA': 1, 'INDIAMART': 3, 'IRCTC': 9, 'IDEA': 5}\n",
      "Remaining:  8.69970703125\n"
     ]
    }
   ],
   "source": [
    "from pypfopt import DiscreteAllocation, get_latest_prices\n",
    "\n",
    "portfolio_val = 100000\n",
    "latest_prices = get_latest_prices(df)\n",
    "\n",
    "weights_1 = cleaned_weights_1\n",
    "da_1 = DiscreteAllocation(weights_1, latest_prices, portfolio_val)\n",
    "al_1, left_1 = da_1.lp_portfolio()\n",
    "\n",
    "print('Discrete Allocation: ', al_1)\n",
    "print('Remaining: ', left_1)\n",
    "print('\\n')\n",
    "\n",
    "weights_2 = cleaned_weights_2\n",
    "da_2 = DiscreteAllocation(weights_2, latest_prices, portfolio_val)\n",
    "al_2, left_2 = da_2.lp_portfolio()\n",
    "\n",
    "print('Discrete Allocation: ', al_2)\n",
    "print('Remaining: ', left_2)"
   ]
  },
  {
   "cell_type": "code",
   "execution_count": 29,
   "id": "2a3f814c",
   "metadata": {},
   "outputs": [],
   "source": [
    "dal_1 = []\n",
    "dac_1 = []\n",
    "dal_2 = []\n",
    "dac_2 = []\n",
    "\n",
    "for stck in al_1:\n",
    "    tick = stck+'.NS'\n",
    "    dal_1.append(al_1.get(stck))\n",
    "    a = yf.Ticker(tick)\n",
    "    dac_1.append(a.info['longName'])\n",
    "    \n",
    "for stck in al_2:\n",
    "    tick = stck+'.NS'\n",
    "    dal_2.append(al_2.get(stck))\n",
    "    a = yf.Ticker(tick)\n",
    "    dac_2.append(a.info['longName'])\n",
    "    \n",
    "portfolio_1 = pd.DataFrame()\n",
    "portfolio_2 = pd.DataFrame()\n",
    "\n",
    "portfolio_1['Company Name'] = dac_1\n",
    "portfolio_1['Number of Stocks'] = dal_1\n",
    "\n",
    "portfolio_2['Company Name'] = dac_2\n",
    "portfolio_2['Number of Stocks'] = dal_2"
   ]
  },
  {
   "cell_type": "code",
   "execution_count": 30,
   "id": "7496ea58",
   "metadata": {},
   "outputs": [
    {
     "data": {
      "text/html": [
       "<div>\n",
       "<style scoped>\n",
       "    .dataframe tbody tr th:only-of-type {\n",
       "        vertical-align: middle;\n",
       "    }\n",
       "\n",
       "    .dataframe tbody tr th {\n",
       "        vertical-align: top;\n",
       "    }\n",
       "\n",
       "    .dataframe thead th {\n",
       "        text-align: right;\n",
       "    }\n",
       "</style>\n",
       "<table border=\"1\" class=\"dataframe\">\n",
       "  <thead>\n",
       "    <tr style=\"text-align: right;\">\n",
       "      <th></th>\n",
       "      <th>Company Name</th>\n",
       "      <th>Number of Stocks</th>\n",
       "    </tr>\n",
       "  </thead>\n",
       "  <tbody>\n",
       "    <tr>\n",
       "      <th>0</th>\n",
       "      <td>Asian Paints Limited</td>\n",
       "      <td>1</td>\n",
       "    </tr>\n",
       "    <tr>\n",
       "      <th>1</th>\n",
       "      <td>Cipla Limited</td>\n",
       "      <td>2</td>\n",
       "    </tr>\n",
       "    <tr>\n",
       "      <th>2</th>\n",
       "      <td>Divi's Laboratories Limited</td>\n",
       "      <td>1</td>\n",
       "    </tr>\n",
       "    <tr>\n",
       "      <th>3</th>\n",
       "      <td>Hindustan Unilever Limited</td>\n",
       "      <td>4</td>\n",
       "    </tr>\n",
       "    <tr>\n",
       "      <th>4</th>\n",
       "      <td>Infosys Limited</td>\n",
       "      <td>3</td>\n",
       "    </tr>\n",
       "    <tr>\n",
       "      <th>5</th>\n",
       "      <td>Nestlé India Limited</td>\n",
       "      <td>1</td>\n",
       "    </tr>\n",
       "    <tr>\n",
       "      <th>6</th>\n",
       "      <td>Power Grid Corporation of India Limited</td>\n",
       "      <td>5</td>\n",
       "    </tr>\n",
       "    <tr>\n",
       "      <th>7</th>\n",
       "      <td>Reliance Industries Limited</td>\n",
       "      <td>1</td>\n",
       "    </tr>\n",
       "    <tr>\n",
       "      <th>8</th>\n",
       "      <td>Tata Consultancy Services Limited</td>\n",
       "      <td>2</td>\n",
       "    </tr>\n",
       "    <tr>\n",
       "      <th>9</th>\n",
       "      <td>Tata Consumer Products Limited</td>\n",
       "      <td>2</td>\n",
       "    </tr>\n",
       "    <tr>\n",
       "      <th>10</th>\n",
       "      <td>Wipro Limited</td>\n",
       "      <td>4</td>\n",
       "    </tr>\n",
       "    <tr>\n",
       "      <th>11</th>\n",
       "      <td>Adani Total Gas Limited</td>\n",
       "      <td>17</td>\n",
       "    </tr>\n",
       "    <tr>\n",
       "      <th>12</th>\n",
       "      <td>IndiaMART InterMESH Limited</td>\n",
       "      <td>2</td>\n",
       "    </tr>\n",
       "    <tr>\n",
       "      <th>13</th>\n",
       "      <td>Indian Railway Catering &amp; Tourism Corporation ...</td>\n",
       "      <td>4</td>\n",
       "    </tr>\n",
       "    <tr>\n",
       "      <th>14</th>\n",
       "      <td>Vodafone Idea Limited</td>\n",
       "      <td>11</td>\n",
       "    </tr>\n",
       "  </tbody>\n",
       "</table>\n",
       "</div>"
      ],
      "text/plain": [
       "                                         Company Name  Number of Stocks\n",
       "0                                Asian Paints Limited                 1\n",
       "1                                       Cipla Limited                 2\n",
       "2                         Divi's Laboratories Limited                 1\n",
       "3                          Hindustan Unilever Limited                 4\n",
       "4                                     Infosys Limited                 3\n",
       "5                                Nestlé India Limited                 1\n",
       "6             Power Grid Corporation of India Limited                 5\n",
       "7                         Reliance Industries Limited                 1\n",
       "8                   Tata Consultancy Services Limited                 2\n",
       "9                      Tata Consumer Products Limited                 2\n",
       "10                                      Wipro Limited                 4\n",
       "11                            Adani Total Gas Limited                17\n",
       "12                        IndiaMART InterMESH Limited                 2\n",
       "13  Indian Railway Catering & Tourism Corporation ...                 4\n",
       "14                              Vodafone Idea Limited                11"
      ]
     },
     "execution_count": 30,
     "metadata": {},
     "output_type": "execute_result"
    }
   ],
   "source": [
    "portfolio_1"
   ]
  },
  {
   "cell_type": "code",
   "execution_count": 31,
   "id": "1ddfb6de",
   "metadata": {},
   "outputs": [
    {
     "data": {
      "text/html": [
       "<div>\n",
       "<style scoped>\n",
       "    .dataframe tbody tr th:only-of-type {\n",
       "        vertical-align: middle;\n",
       "    }\n",
       "\n",
       "    .dataframe tbody tr th {\n",
       "        vertical-align: top;\n",
       "    }\n",
       "\n",
       "    .dataframe thead th {\n",
       "        text-align: right;\n",
       "    }\n",
       "</style>\n",
       "<table border=\"1\" class=\"dataframe\">\n",
       "  <thead>\n",
       "    <tr style=\"text-align: right;\">\n",
       "      <th></th>\n",
       "      <th>Company Name</th>\n",
       "      <th>Number of Stocks</th>\n",
       "    </tr>\n",
       "  </thead>\n",
       "  <tbody>\n",
       "    <tr>\n",
       "      <th>0</th>\n",
       "      <td>Hindustan Unilever Limited</td>\n",
       "      <td>3</td>\n",
       "    </tr>\n",
       "    <tr>\n",
       "      <th>1</th>\n",
       "      <td>Infosys Limited</td>\n",
       "      <td>2</td>\n",
       "    </tr>\n",
       "    <tr>\n",
       "      <th>2</th>\n",
       "      <td>Nestlé India Limited</td>\n",
       "      <td>1</td>\n",
       "    </tr>\n",
       "    <tr>\n",
       "      <th>3</th>\n",
       "      <td>Tata Consultancy Services Limited</td>\n",
       "      <td>2</td>\n",
       "    </tr>\n",
       "    <tr>\n",
       "      <th>4</th>\n",
       "      <td>Adani Total Gas Limited</td>\n",
       "      <td>19</td>\n",
       "    </tr>\n",
       "    <tr>\n",
       "      <th>5</th>\n",
       "      <td>Bank of Baroda</td>\n",
       "      <td>1</td>\n",
       "    </tr>\n",
       "    <tr>\n",
       "      <th>6</th>\n",
       "      <td>IndiaMART InterMESH Limited</td>\n",
       "      <td>3</td>\n",
       "    </tr>\n",
       "    <tr>\n",
       "      <th>7</th>\n",
       "      <td>Indian Railway Catering &amp; Tourism Corporation ...</td>\n",
       "      <td>9</td>\n",
       "    </tr>\n",
       "    <tr>\n",
       "      <th>8</th>\n",
       "      <td>Vodafone Idea Limited</td>\n",
       "      <td>5</td>\n",
       "    </tr>\n",
       "  </tbody>\n",
       "</table>\n",
       "</div>"
      ],
      "text/plain": [
       "                                        Company Name  Number of Stocks\n",
       "0                         Hindustan Unilever Limited                 3\n",
       "1                                    Infosys Limited                 2\n",
       "2                               Nestlé India Limited                 1\n",
       "3                  Tata Consultancy Services Limited                 2\n",
       "4                            Adani Total Gas Limited                19\n",
       "5                                     Bank of Baroda                 1\n",
       "6                        IndiaMART InterMESH Limited                 3\n",
       "7  Indian Railway Catering & Tourism Corporation ...                 9\n",
       "8                              Vodafone Idea Limited                 5"
      ]
     },
     "execution_count": 31,
     "metadata": {},
     "output_type": "execute_result"
    }
   ],
   "source": [
    "portfolio_2"
   ]
  },
  {
   "cell_type": "code",
   "execution_count": 32,
   "id": "764a09d0",
   "metadata": {},
   "outputs": [
    {
     "data": {
      "text/plain": [
       "{'ASIANPAINT': 0.02974,\n",
       " 'BRITANNIA': 0.00262,\n",
       " 'CIPLA': 0.02078,\n",
       " 'DIVISLAB': 0.03204,\n",
       " 'DRREDDY': 0.00869,\n",
       " 'HCLTECH': 0.00564,\n",
       " 'HINDUNILVR': 0.10131,\n",
       " 'INFY': 0.04254,\n",
       " 'NESTLEIND': 0.10169,\n",
       " 'POWERGRID': 0.01232,\n",
       " 'RELIANCE': 0.01951,\n",
       " 'TCS': 0.07562,\n",
       " 'TATACONSUM': 0.01437,\n",
       " 'TITAN': 0.01305,\n",
       " 'WIPRO': 0.02008,\n",
       " 'ATGL': 0.22397,\n",
       " 'INDIAMART': 0.17913,\n",
       " 'IRCTC': 0.09691}"
      ]
     },
     "execution_count": 32,
     "metadata": {},
     "output_type": "execute_result"
    }
   ],
   "source": [
    "cw1 = {x:y for x,y in cleaned_weights_1.items() if y!=0}\n",
    "cw1"
   ]
  },
  {
   "cell_type": "code",
   "execution_count": 33,
   "id": "4b9db9e7",
   "metadata": {},
   "outputs": [
    {
     "data": {
      "text/plain": [
       "{'ASIANPAINT': 0.01061,\n",
       " 'DIVISLAB': 0.02467,\n",
       " 'HINDUNILVR': 0.08023,\n",
       " 'INFY': 0.03429,\n",
       " 'NESTLEIND': 0.08732,\n",
       " 'TCS': 0.05791,\n",
       " 'TATACONSUM': 0.00497,\n",
       " 'ATGL': 0.25849,\n",
       " 'DIXON': 0.01994,\n",
       " 'INDIAMART': 0.23528,\n",
       " 'IRCTC': 0.18629}"
      ]
     },
     "execution_count": 33,
     "metadata": {},
     "output_type": "execute_result"
    }
   ],
   "source": [
    "cw2 = {x:y for x,y in cleaned_weights_2.items() if y!=0}\n",
    "cw2"
   ]
  },
  {
   "cell_type": "markdown",
   "id": "55e8be22",
   "metadata": {},
   "source": [
    "# METRICS"
   ]
  },
  {
   "cell_type": "code",
   "execution_count": 34,
   "id": "892c6919",
   "metadata": {},
   "outputs": [],
   "source": [
    "cw = list(set(list(cw1.keys()) + list(cw2.keys())))\n",
    "\n",
    "tdf = df[cw].copy().pct_change()\n",
    "tdf.drop([tdf.index[0]], inplace=True)\n",
    "tcs = tdf.copy()\n",
    "tcs['nifty_50'] = nifty_50_daily\n",
    "tcsdf = tcs.corr(method='pearson')\n",
    "\n",
    "tdf1 = df[cw1].copy().pct_change()\n",
    "tdf1.drop([tdf1.index[0]], inplace=True)\n",
    "tcs1 = tdf1.copy()\n",
    "tcs1['nifty_50'] = nifty_50_daily\n",
    "tcsdf1 = tcs1.corr(method='pearson')\n",
    "\n",
    "tdf2 = df[cw2].copy().pct_change()\n",
    "tdf2.drop([tdf2.index[0]], inplace=True)\n",
    "tcs2 = tdf2.copy()\n",
    "tcs2['nifty_50'] = nifty_50_daily\n",
    "tcsdf2 = tcs2.corr(method='pearson')"
   ]
  },
  {
   "cell_type": "code",
   "execution_count": 35,
   "id": "d861992f",
   "metadata": {},
   "outputs": [
    {
     "name": "stderr",
     "output_type": "stream",
     "text": [
      "<ipython-input-35-48dc6bc3fa23>:1: DeprecationWarning: The default dtype for empty Series will be 'object' instead of 'float64' in a future version. Specify a dtype explicitly to silence this warning.\n",
      "  stock_beta = pd.Series(index=cw)\n"
     ]
    }
   ],
   "source": [
    "stock_beta = pd.Series(index=cw)\n",
    "nifty_std = tcs['nifty_50'].std()\n",
    "\n",
    "for stock in cw:\n",
    "    stock_beta[stock] = (tcsdf['nifty_50'][stock] * tcs[stock].std()) / nifty_std"
   ]
  },
  {
   "cell_type": "code",
   "execution_count": 36,
   "id": "8cc96cd4",
   "metadata": {},
   "outputs": [],
   "source": [
    "metrics = ['Return','Volatility','Sharpe Ratio', 'VaR', 'Portfolio Beta', 'Treynor Ratio', 'Jensen Alpha']\n",
    "metrics_df = pd.DataFrame(columns=metrics)"
   ]
  },
  {
   "cell_type": "code",
   "execution_count": 37,
   "id": "d7c69e5f",
   "metadata": {},
   "outputs": [],
   "source": [
    "risk_free_rate = 0.0602\n",
    "alpha = 0.01\n",
    "days = 252\n",
    "market_return = nifty_50_daily.mean() * days "
   ]
  },
  {
   "cell_type": "code",
   "execution_count": 38,
   "id": "ded0557d",
   "metadata": {},
   "outputs": [],
   "source": [
    "# P1\n",
    "\n",
    "r1 = np.zeros(len(metrics))\n",
    "sb1 = stock_beta[cw1].copy()\n",
    "pb1 = 0\n",
    "twl1 = np.array(list(cw1.values()))\n",
    "tcovdf1 = tdf1.cov()\n",
    "\n",
    "pr1 = np.sum(tdf1.mean() * twl1) * days\n",
    "pstd1 = np.sqrt(np.dot(twl1.T,np.dot(tcovdf1, twl1))) * np.sqrt(days)\n",
    "\n",
    "r1[0] = pr1\n",
    "r1[1] = pstd1\n",
    "\n",
    "# SHARPE RATIO => (portfolio_return - risk_free_rate) / volatility\n",
    "r1[2] = (r1[0] - risk_free_rate) / r1[1]\n",
    "\n",
    "# VaR => return - (Z * volatility)\n",
    "r1[3] = abs(pr1 - (pstd1 * norm.ppf(1 - alpha)))\n",
    "\n",
    "# PORTFOLIO BETA => sum(weight * beta)\n",
    "for j in range(len(twl1)):\n",
    "    pb1 += twl1[j] * sb1[j]\n",
    "r1[4] = pb1\n",
    "\n",
    "# TREYNOR RATIO => (portfolio_return - risk_free_rate) / portfolio_beta\n",
    "r1[5] = (r1[0] - risk_free_rate) / r1[4]\n",
    "\n",
    "# JENSEN ALPHA => portfolio_return - (risk_free_rate + portfolio_beta * (market_return - risk_free_rate))\n",
    "r1[6] = r1[0] - (risk_free_rate + r1[4] * (market_return - risk_free_rate))   \n",
    "\n",
    "r1 = pd.Series(r1, index=metrics)\n",
    "metrics_df = metrics_df.append(r1, ignore_index=True)"
   ]
  },
  {
   "cell_type": "code",
   "execution_count": 39,
   "id": "a2770c9a",
   "metadata": {},
   "outputs": [],
   "source": [
    "# P2\n",
    "\n",
    "r2 = np.zeros(len(metrics))\n",
    "sb2 = stock_beta[cw2].copy()\n",
    "pb2 = 0\n",
    "twl2 = np.array(list(cw2.values()))\n",
    "tcovdf2 = tdf2.cov()\n",
    "\n",
    "pr2 = np.sum(tdf2.mean() * twl2) * days\n",
    "pstd2 = np.sqrt(np.dot(twl2.T,np.dot(tcovdf2, twl2))) * np.sqrt(days)\n",
    "\n",
    "r2[0] = pr2\n",
    "r2[1] = pstd2\n",
    "\n",
    "# SHARPE RATIO => (portfolio_return - risk_free_rate) / volatility\n",
    "r2[2] = (r2[0] - risk_free_rate) / r2[1]\n",
    "\n",
    "# VaR => return - (Z * volatility)\n",
    "r2[3] = abs(pr2 - (pstd2 * norm.ppf(1 - alpha)))\n",
    "\n",
    "# PORTFOLIO BETA => sum(weight * beta)\n",
    "for j in range(len(twl2)):\n",
    "    pb2 += twl2[j] * sb2[j]\n",
    "r2[4] = pb2\n",
    "\n",
    "# TREYNOR RATIO => (portfolio_return - risk_free_rate) / portfolio_beta\n",
    "r2[5] = (r2[0] - risk_free_rate) / r2[4]\n",
    "\n",
    "# JENSEN ALPHA => portfolio_return - (risk_free_rate + portfolio_beta * (market_return - risk_free_rate))\n",
    "r2[6] = r2[0] - (risk_free_rate + r2[4] * (market_return - risk_free_rate))   \n",
    "\n",
    "r2 = pd.Series(r2, index=metrics)\n",
    "metrics_df = metrics_df.append(r2, ignore_index=True)"
   ]
  },
  {
   "cell_type": "code",
   "execution_count": 40,
   "id": "27fc93ad",
   "metadata": {},
   "outputs": [],
   "source": [
    "metrics_df.index = ['Portfolio 1', 'Portfolio 2']"
   ]
  },
  {
   "cell_type": "code",
   "execution_count": 41,
   "id": "f1ea72b5",
   "metadata": {},
   "outputs": [
    {
     "data": {
      "text/html": [
       "<div>\n",
       "<style scoped>\n",
       "    .dataframe tbody tr th:only-of-type {\n",
       "        vertical-align: middle;\n",
       "    }\n",
       "\n",
       "    .dataframe tbody tr th {\n",
       "        vertical-align: top;\n",
       "    }\n",
       "\n",
       "    .dataframe thead th {\n",
       "        text-align: right;\n",
       "    }\n",
       "</style>\n",
       "<table border=\"1\" class=\"dataframe\">\n",
       "  <thead>\n",
       "    <tr style=\"text-align: right;\">\n",
       "      <th></th>\n",
       "      <th>Return</th>\n",
       "      <th>Volatility</th>\n",
       "      <th>Sharpe Ratio</th>\n",
       "      <th>VaR</th>\n",
       "      <th>Portfolio Beta</th>\n",
       "      <th>Treynor Ratio</th>\n",
       "      <th>Jensen Alpha</th>\n",
       "    </tr>\n",
       "  </thead>\n",
       "  <tbody>\n",
       "    <tr>\n",
       "      <th>Portfolio 1</th>\n",
       "      <td>0.679088</td>\n",
       "      <td>0.234853</td>\n",
       "      <td>2.635212</td>\n",
       "      <td>0.132738</td>\n",
       "      <td>0.808248</td>\n",
       "      <td>0.765715</td>\n",
       "      <td>0.546639</td>\n",
       "    </tr>\n",
       "    <tr>\n",
       "      <th>Portfolio 2</th>\n",
       "      <td>0.808102</td>\n",
       "      <td>0.272547</td>\n",
       "      <td>2.744122</td>\n",
       "      <td>0.174063</td>\n",
       "      <td>0.842144</td>\n",
       "      <td>0.888093</td>\n",
       "      <td>0.672624</td>\n",
       "    </tr>\n",
       "  </tbody>\n",
       "</table>\n",
       "</div>"
      ],
      "text/plain": [
       "               Return  Volatility  Sharpe Ratio       VaR  Portfolio Beta  \\\n",
       "Portfolio 1  0.679088    0.234853      2.635212  0.132738        0.808248   \n",
       "Portfolio 2  0.808102    0.272547      2.744122  0.174063        0.842144   \n",
       "\n",
       "             Treynor Ratio  Jensen Alpha  \n",
       "Portfolio 1       0.765715      0.546639  \n",
       "Portfolio 2       0.888093      0.672624  "
      ]
     },
     "execution_count": 41,
     "metadata": {},
     "output_type": "execute_result"
    }
   ],
   "source": [
    "metrics_df"
   ]
  }
 ],
 "metadata": {
  "kernelspec": {
   "display_name": "Python 3",
   "language": "python",
   "name": "python3"
  },
  "language_info": {
   "codemirror_mode": {
    "name": "ipython",
    "version": 3
   },
   "file_extension": ".py",
   "mimetype": "text/x-python",
   "name": "python",
   "nbconvert_exporter": "python",
   "pygments_lexer": "ipython3",
   "version": "3.9.5"
  }
 },
 "nbformat": 4,
 "nbformat_minor": 5
}
