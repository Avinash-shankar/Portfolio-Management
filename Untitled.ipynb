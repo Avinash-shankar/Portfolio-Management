{
 "cells": [
  {
   "cell_type": "code",
   "execution_count": 1,
   "id": "3830dd9d",
   "metadata": {},
   "outputs": [],
   "source": [
    "import pandas as pd\n",
    "import numpy as np\n",
    "import matplotlib.pyplot as plt\n",
    "\n",
    "from datetime import date\n",
    "from datetime import timedelta\n",
    "\n",
    "import yfinance as yf\n",
    "\n",
    "from scipy.stats import norm\n",
    "\n",
    "import warnings\n",
    "warnings.filterwarnings('ignore')\n"
   ]
  },
  {
   "cell_type": "code",
   "execution_count": 2,
   "id": "47a1f8b4",
   "metadata": {},
   "outputs": [],
   "source": [
    "end = date.today() - timedelta(days = 1)\n",
    "start = date(end.year-5,end.month,end.day)"
   ]
  },
  {
   "cell_type": "code",
   "execution_count": 3,
   "id": "8303ba89",
   "metadata": {},
   "outputs": [],
   "source": [
    "stock_symbol = 'RELIANCE.NS'"
   ]
  },
  {
   "cell_type": "code",
   "execution_count": null,
   "id": "e2dfc098",
   "metadata": {},
   "outputs": [
    {
     "name": "stderr",
     "output_type": "stream",
     "text": [
      "Exception in thread Thread-4:\n",
      "Traceback (most recent call last):\n",
      "  File \"/usr/local/Cellar/python@3.9/3.9.6/Frameworks/Python.framework/Versions/3.9/lib/python3.9/threading.py\", line 973, in _bootstrap_inner\n",
      "    self.run()\n",
      "  File \"/usr/local/Cellar/python@3.9/3.9.6/Frameworks/Python.framework/Versions/3.9/lib/python3.9/threading.py\", line 910, in run\n",
      "    self._target(*self._args, **self._kwargs)\n",
      "  File \"/usr/local/lib/python3.9/site-packages/multitasking/__init__.py\", line 102, in _run_via_pool\n",
      "    return callee(*args, **kwargs)\n",
      "  File \"/usr/local/lib/python3.9/site-packages/yfinance/multi.py\", line 167, in _download_one_threaded\n",
      "    data = _download_one(ticker, start, end, auto_adjust, back_adjust,\n",
      "  File \"/usr/local/lib/python3.9/site-packages/yfinance/multi.py\", line 179, in _download_one\n",
      "    return Ticker(ticker).history(period=period, interval=interval,\n",
      "  File \"/usr/local/lib/python3.9/site-packages/yfinance/base.py\", line 157, in history\n",
      "    data = data.json()\n",
      "  File \"/usr/local/lib/python3.9/site-packages/requests/models.py\", line 900, in json\n",
      "    return complexjson.loads(self.text, **kwargs)\n",
      "  File \"/usr/local/Cellar/python@3.9/3.9.6/Frameworks/Python.framework/Versions/3.9/lib/python3.9/json/__init__.py\", line 346, in loads\n",
      "    return _default_decoder.decode(s)\n",
      "  File \"/usr/local/Cellar/python@3.9/3.9.6/Frameworks/Python.framework/Versions/3.9/lib/python3.9/json/decoder.py\", line 337, in decode\n",
      "    obj, end = self.raw_decode(s, idx=_w(s, 0).end())\n",
      "  File \"/usr/local/Cellar/python@3.9/3.9.6/Frameworks/Python.framework/Versions/3.9/lib/python3.9/json/decoder.py\", line 355, in raw_decode\n",
      "    raise JSONDecodeError(\"Expecting value\", s, err.value) from None\n",
      "json.decoder.JSONDecodeError: Expecting value: line 1 column 1 (char 0)\n"
     ]
    }
   ],
   "source": [
    "df1 = yf.download(stock_symbol, start, end)\n",
    "df1.dropna(inplace=True)"
   ]
  },
  {
   "cell_type": "code",
   "execution_count": null,
   "id": "85630448",
   "metadata": {},
   "outputs": [],
   "source": [
    "df1"
   ]
  },
  {
   "cell_type": "code",
   "execution_count": null,
   "id": "9e33d82d",
   "metadata": {},
   "outputs": [],
   "source": [
    "reliance_daily_returns = df1['Adj Close'].pct_change()\n",
    "reliance_monthly_returns = df1['Adj Close'].resample('M').ffill().pct_change()"
   ]
  },
  {
   "cell_type": "code",
   "execution_count": null,
   "id": "773af6c5",
   "metadata": {},
   "outputs": [],
   "source": [
    "reliance_daily_returns"
   ]
  },
  {
   "cell_type": "code",
   "execution_count": null,
   "id": "4eafa6db",
   "metadata": {},
   "outputs": [],
   "source": [
    "reliance_monthly_returns"
   ]
  },
  {
   "cell_type": "code",
   "execution_count": null,
   "id": "7b86704d",
   "metadata": {},
   "outputs": [],
   "source": [
    "weight_df = pd.read_csv('../data/WeightsDF.csv')\n",
    "weight_df.set_index('Portfolio', inplace=True)"
   ]
  },
  {
   "cell_type": "code",
   "execution_count": null,
   "id": "ccabfb40",
   "metadata": {},
   "outputs": [],
   "source": [
    "weight_df"
   ]
  },
  {
   "cell_type": "code",
   "execution_count": null,
   "id": "820be8bc",
   "metadata": {},
   "outputs": [],
   "source": [
    "stocks = np.array(weight_df.columns).tolist()\n",
    "\n",
    "i1 = 0\n",
    "i2 = 1\n",
    "portfolio1 = []\n",
    "portfolio2 = []\n",
    "for stock in stocks:\n",
    "    if weight_df[stock][i1] > 0:\n",
    "        portfolio1.append(stock)\n",
    "    if weight_df[stock][i2] > 0:\n",
    "        portfolio2.append(stock)"
   ]
  },
  {
   "cell_type": "code",
   "execution_count": null,
   "id": "225f04ae",
   "metadata": {},
   "outputs": [],
   "source": [
    "portfolio1_ticker = []\n",
    "for stock in portfolio1:\n",
    "    portfolio1_ticker.append(stock+'.NS')"
   ]
  },
  {
   "cell_type": "code",
   "execution_count": null,
   "id": "0680bbcb",
   "metadata": {},
   "outputs": [],
   "source": [
    "for stock, stock_symbol in zip(portfolio1, portfolio1_ticker):\n",
    "    globals()[stock] = yf.download(stock_symbol, start, end)\n",
    "    globals()[stock].dropna(inplace=True)"
   ]
  },
  {
   "cell_type": "code",
   "execution_count": null,
   "id": "3878bed8",
   "metadata": {},
   "outputs": [],
   "source": [
    "nifty_50 = yf.download(\"^NSEI\", start, end)\n",
    "\n",
    "nifty_50_daily = nifty_50['Adj Close'].pct_change().dropna()"
   ]
  },
  {
   "cell_type": "code",
   "execution_count": null,
   "id": "e6311ec4",
   "metadata": {},
   "outputs": [],
   "source": [
    "closing_df = pd.DataFrame(index=IRCTC.index, columns=portfolio1)\n",
    "for stock in portfolio1:\n",
    "    closing_df[stock] = globals()[stock]['Adj Close']\n",
    "    \n",
    "closing_df['nifty_50'] = nifty_50['Adj Close']"
   ]
  },
  {
   "cell_type": "code",
   "execution_count": null,
   "id": "0bfc564a",
   "metadata": {},
   "outputs": [],
   "source": [
    "closing_df"
   ]
  },
  {
   "cell_type": "code",
   "execution_count": null,
   "id": "5edf4c49",
   "metadata": {},
   "outputs": [],
   "source": [
    "daily_return = closing_df.pct_change()\n",
    "monthly_return = closing_df.resample('M').ffill().pct_change() "
   ]
  },
  {
   "cell_type": "code",
   "execution_count": null,
   "id": "dd4109d4",
   "metadata": {},
   "outputs": [],
   "source": [
    "daily_return"
   ]
  },
  {
   "cell_type": "code",
   "execution_count": null,
   "id": "d21a2a91",
   "metadata": {},
   "outputs": [],
   "source": [
    "monthly_return"
   ]
  },
  {
   "cell_type": "code",
   "execution_count": null,
   "id": "bf99c53e",
   "metadata": {},
   "outputs": [],
   "source": [
    "monthly_volatility = daily_return.rolling(window=21).std() * np.sqrt(21)"
   ]
  },
  {
   "cell_type": "code",
   "execution_count": null,
   "id": "1e5584c6",
   "metadata": {},
   "outputs": [],
   "source": [
    "monthly_volatility"
   ]
  },
  {
   "cell_type": "code",
   "execution_count": null,
   "id": "a76eeb00",
   "metadata": {},
   "outputs": [],
   "source": [
    "monthly_closing_df = closing_df.resample('M').mean()\n",
    "monthly_closing_df"
   ]
  },
  {
   "cell_type": "code",
   "execution_count": null,
   "id": "9f6146d5",
   "metadata": {},
   "outputs": [],
   "source": [
    "nifty_std = monthly_return['nifty_50'].std()\n",
    "\n",
    "mstd = monthly_return.copy()\n",
    "mstd1 = mstd.corr(method='pearson')"
   ]
  },
  {
   "cell_type": "code",
   "execution_count": null,
   "id": "80b0cae6",
   "metadata": {},
   "outputs": [],
   "source": [
    "monthly_stock_beta = pd.Series(index=portfolio1)\n",
    "\n",
    "for stock in portfolio1:\n",
    "    monthly_stock_beta[stock] = (mstd1['nifty_50'][stock] * mstd[stock].std()) / nifty_std"
   ]
  },
  {
   "cell_type": "code",
   "execution_count": null,
   "id": "c108fe8c",
   "metadata": {},
   "outputs": [],
   "source": [
    "monthly_stock_beta"
   ]
  },
  {
   "cell_type": "code",
   "execution_count": null,
   "id": "64d54d9a",
   "metadata": {},
   "outputs": [],
   "source": [
    "w = weight_df.iloc[0].dropna()"
   ]
  },
  {
   "cell_type": "code",
   "execution_count": null,
   "id": "7c510142",
   "metadata": {},
   "outputs": [],
   "source": [
    "risk_free_rate = 0.0602\n",
    "alpha = 0.01\n",
    "days = 21\n",
    "market_return = nifty_50_daily.mean() * days "
   ]
  },
  {
   "cell_type": "code",
   "execution_count": null,
   "id": "7dfc15e3",
   "metadata": {},
   "outputs": [],
   "source": []
  }
 ],
 "metadata": {
  "kernelspec": {
   "display_name": "Python 3",
   "language": "python",
   "name": "python3"
  },
  "language_info": {
   "codemirror_mode": {
    "name": "ipython",
    "version": 3
   },
   "file_extension": ".py",
   "mimetype": "text/x-python",
   "name": "python",
   "nbconvert_exporter": "python",
   "pygments_lexer": "ipython3",
   "version": "3.9.6"
  }
 },
 "nbformat": 4,
 "nbformat_minor": 5
}
